{
 "cells": [
  {
   "cell_type": "code",
   "execution_count": 1,
   "id": "aa195747",
   "metadata": {},
   "outputs": [],
   "source": [
    "import nltk\n",
    "import matplotlib.pyplot as plt\n",
    "import pandas as pd\n",
    "from sklearn.model_selection import train_test_split"
   ]
  },
  {
   "cell_type": "code",
   "execution_count": 2,
   "id": "b85b2145",
   "metadata": {},
   "outputs": [
    {
     "name": "stderr",
     "output_type": "stream",
     "text": [
      "[nltk_data] Downloading package stopwords to /home/irteam/nltk_data...\n",
      "[nltk_data]   Package stopwords is already up-to-date!\n"
     ]
    },
    {
     "data": {
      "text/plain": [
       "True"
      ]
     },
     "execution_count": 2,
     "metadata": {},
     "output_type": "execute_result"
    }
   ],
   "source": [
    "# Download NLTK stopwords\n",
    "nltk.download('stopwords')"
   ]
  },
  {
   "cell_type": "code",
   "execution_count": 3,
   "id": "08f28cab",
   "metadata": {},
   "outputs": [],
   "source": [
    "# Load and preprocess the dataset\n",
    "read_file = pd.read_csv(\"/home/irteam/dreaddit/dreaddit-train.csv\")\n",
    "tr_dataset = pd.DataFrame(read_file, columns=['text', 'label'])\n",
    "# tr_dataset = tr_dataset.rename(columns={'Text': 'text', 'Label': 'label'})\n",
    "tr_dataset = tr_dataset.convert_dtypes()\n",
    "tr_dataset.drop(tr_dataset[tr_dataset.text==\"emptypost\"].index, inplace=True)\n",
    "tr_dataset.drop(tr_dataset[tr_dataset.label==\" \"].index, inplace=True)\n",
    "tr_dataset.dropna(inplace=True)\n",
    "tr_dataset = tr_dataset.reset_index(drop=True)"
   ]
  },
  {
   "cell_type": "code",
   "execution_count": 4,
   "id": "e5a0cc35",
   "metadata": {},
   "outputs": [
    {
     "name": "stdout",
     "output_type": "stream",
     "text": [
      "                                                   text  label\n",
      "0     He said he had not felt that way before, sugge...      1\n",
      "1     Hey there r/assistance, Not sure if this is th...      0\n",
      "2     My mom then hit me with the newspaper and it s...      1\n",
      "3     until i met my new boyfriend, he is amazing, h...      1\n",
      "4     October is Domestic Violence Awareness Month a...      1\n",
      "...                                                 ...    ...\n",
      "2833  * Her, a week ago: Precious, how are you? (I i...      0\n",
      "2834  I don't have the ability to cope with it anymo...      1\n",
      "2835  In case this is the first time you're reading ...      0\n",
      "2836  Do you find this normal? They have a good rela...      0\n",
      "2837  I was talking to my mom this morning and she s...      1\n",
      "\n",
      "[2838 rows x 2 columns]\n"
     ]
    }
   ],
   "source": [
    "print(tr_dataset)"
   ]
  },
  {
   "cell_type": "code",
   "execution_count": 5,
   "id": "2afa4ee9",
   "metadata": {},
   "outputs": [],
   "source": [
    "# Split dataset into train, validation, and test sets\n",
    "train_data, val_data = train_test_split(tr_dataset, test_size=0.2, random_state=42)"
   ]
  },
  {
   "cell_type": "code",
   "execution_count": 6,
   "id": "b98c4bee",
   "metadata": {},
   "outputs": [],
   "source": [
    "from torch.utils.data import Dataset\n",
    "import numpy as np\n",
    "import re\n",
    "import nltk\n",
    "import string\n",
    "\n",
    "class D_Dataset(Dataset):\n",
    "    def __init__(self, dataframe, tokenizer):\n",
    "        texts = dataframe.text.values.tolist()\n",
    "\n",
    "        texts = [self._preprocess(text) for text in texts]\n",
    "\n",
    "        self._print_random_samples(texts)\n",
    "\n",
    "        self.texts = [tokenizer(text, padding='max_length',\n",
    "                                max_length=512,\n",
    "                                truncation=True,\n",
    "                                return_tensors=\"pt\")\n",
    "                      for text in texts]\n",
    "\n",
    "        if 'label' in dataframe:\n",
    "            classes = dataframe.label.values.tolist()\n",
    "            self.labels = classes\n",
    "\n",
    "    def _print_random_samples(self, texts):\n",
    "        np.random.seed(42)\n",
    "        random_entries = np.random.randint(0, len(texts), 5)\n",
    "\n",
    "        for i in random_entries:\n",
    "            print(f\"Entry {i}: {texts[i]}\")\n",
    "\n",
    "        print()\n",
    "\n",
    "    def _preprocess(self, text):\n",
    "        text = text.lower()\n",
    "        text = self.clean_email(text)\n",
    "        text = self.clean_url(text)\n",
    "        text = self.listToString(text.split(\".\"))\n",
    "        text = text.split(\" \")\n",
    "        text = self.clean_postfix(text)\n",
    "        text = self.clean_punctuation(text)\n",
    "        text = self.clean_numbers(text)\n",
    "        text = self.clean_stopwords(text)\n",
    "        text = text.split(\" \")\n",
    "        filtered_sentence = [word for word in text if len(word) > 2]\n",
    "        text = ' '.join(filtered_sentence)\n",
    "\n",
    "        return text\n",
    "\n",
    "    def clean_email(self,text):\n",
    "        text = re.sub(r'\\S*@\\S*\\s?', '', text)\n",
    "        return text\n",
    "\n",
    "    def clean_url(self,text):\n",
    "        text = re.sub(r\"http\\S+|www\\S+|https\\S+\", '', text)\n",
    "        return text\n",
    "\n",
    "    def listToString(self,s):\n",
    "        str1 = \" \"\n",
    "        return str1.join(s)\n",
    "\n",
    "    def clean_postfix(self,content):\n",
    "        return [re.sub(r'(.)\\1+', r'\\1\\1', word) for word in content]\n",
    "\n",
    "    def clean_punctuation(self,content):\n",
    "        return [word.translate(str.maketrans(\"\", \"\", string.punctuation)) for word in content]\n",
    "\n",
    "    def clean_numbers(self,content):\n",
    "        return [re.sub(r'\\d+', '', word) for word in content]\n",
    "\n",
    "    def clean_stopwords(self,content):\n",
    "        stopwords_list = nltk.corpus.stopwords.words('english')\n",
    "        return ' '.join([word for word in content if word not in stopwords_list])\n",
    "    \n",
    "    def __len__(self):\n",
    "        return len(self.texts)\n",
    "\n",
    "    def __getitem__(self, idx):\n",
    "        text = self.texts[idx]\n",
    "\n",
    "        label = -1\n",
    "        if hasattr(self, 'labels'):\n",
    "            label = self.labels[idx]\n",
    "\n",
    "        return text, label"
   ]
  },
  {
   "cell_type": "code",
   "execution_count": 7,
   "id": "301cf631",
   "metadata": {},
   "outputs": [],
   "source": [
    "from torch import nn\n",
    "\n",
    "class Classifier(nn.Module):\n",
    "    def __init__(self, base_model):\n",
    "        super(Classifier, self).__init__()\n",
    "\n",
    "        self.bert = base_model\n",
    "        self.fc1 = nn.Linear(768, 32)\n",
    "        self.fc2 = nn.Linear(32, 1)\n",
    "\n",
    "        self.relu = nn.ReLU()\n",
    "        self.sigmoid = nn.Sigmoid()\n",
    "        \n",
    "    def forward(self, input_ids, attention_mask):\n",
    "        bert_out = self.bert(input_ids=input_ids,\n",
    "                             attention_mask=attention_mask)[0][:, 0]\n",
    "        x = self.fc1(bert_out)\n",
    "        x = self.relu(x)\n",
    "        \n",
    "        x = self.fc2(x)\n",
    "        x = self.sigmoid(x)\n",
    "\n",
    "        return x"
   ]
  },
  {
   "cell_type": "code",
   "execution_count": 8,
   "id": "45fcf849",
   "metadata": {},
   "outputs": [],
   "source": [
    "import torch\n",
    "from torch.optim import Adam\n",
    "from tqdm import tqdm\n",
    "\n",
    "def train(model, train_dataloader, val_dataloader, learning_rate, epochs):\n",
    "    best_val_loss = float('inf')\n",
    "    early_stopping_threshold_count = 0\n",
    "    \n",
    "    \n",
    "    use_cuda = torch.cuda.is_available()\n",
    "    device = torch.device(\"cuda:1\" if use_cuda else \"cpu\")\n",
    "\n",
    "    criterion = nn.BCELoss()\n",
    "    optimizer = Adam(model.parameters(), lr=learning_rate)\n",
    "#     if torch.cuda.device_count() > 1:\n",
    "#         device_ids = [1, 2, 3,4,5,6]  # Specify the desired GPU device IDs\n",
    "#         print(\"Using\", len(device_ids), \"GPUs!\")\n",
    "#         model = nn.DataParallel(model, device_ids=device_ids)\n",
    "\n",
    "    model = model.to(device)\n",
    "    criterion = criterion.to(device)\n",
    "    tr_loss=[]\n",
    "    tr_acc=[]\n",
    "    t_loss=[]\n",
    "    t_acc=[]\n",
    "\n",
    "    for epoch in range(epochs):\n",
    "        total_acc_train = 0\n",
    "        total_loss_train = 0\n",
    "        \n",
    "        model.train()\n",
    "        \n",
    "        for train_input, train_label in tqdm(train_dataloader):\n",
    "            attention_mask = train_input['attention_mask'].to(device)\n",
    "            input_ids = train_input['input_ids'].squeeze(1).to(device)\n",
    "\n",
    "            train_label = train_label.to(device)\n",
    "\n",
    "            output = model(input_ids, attention_mask)\n",
    "\n",
    "            loss = criterion(output, train_label.float().unsqueeze(1))\n",
    "\n",
    "            total_loss_train += loss.item()\n",
    "\n",
    "            acc = ((output >= 0.5).int() == train_label.unsqueeze(1)).sum().item()\n",
    "            total_acc_train += acc\n",
    "\n",
    "            loss.backward()\n",
    "            optimizer.step()\n",
    "            optimizer.zero_grad()\n",
    "\n",
    "        with torch.no_grad():\n",
    "            total_acc_val = 0\n",
    "            total_loss_val = 0\n",
    "            \n",
    "            model.eval()\n",
    "            \n",
    "            for val_input, val_label in tqdm(val_dataloader):\n",
    "                attention_mask = val_input['attention_mask'].to(device)\n",
    "                input_ids = val_input['input_ids'].squeeze(1).to(device)\n",
    "\n",
    "                val_label = val_label.to(device)\n",
    "\n",
    "                output = model(input_ids, attention_mask)\n",
    "\n",
    "                loss = criterion(output, val_label.float().unsqueeze(1))\n",
    "\n",
    "                total_loss_val += loss.item()\n",
    "\n",
    "                acc = ((output >= 0.5).int() == val_label.unsqueeze(1)).sum().item()\n",
    "                total_acc_val += acc\n",
    "            \n",
    "            print(f'Epochs: {epoch + 1} '\n",
    "                  f'| Train Loss: {total_loss_train / len(train_dataloader): .3f} '\n",
    "                  f'| Train Accuracy: {total_acc_train / (len(train_dataloader.dataset)): .3f} '\n",
    "                  f'| Val Loss: {total_loss_val / len(val_dataloader): .3f} '\n",
    "                  f'| Val Accuracy: {total_acc_val / len(val_dataloader.dataset): .3f}')\n",
    "            tr_loss.append(total_loss_train / len(train_dataloader))\n",
    "            tr_acc.append(total_acc_train / (len(train_dataloader.dataset)))\n",
    "            t_loss.append(total_loss_val / len(val_dataloader))\n",
    "            t_acc.append(total_acc_val / len(val_dataloader.dataset))\n",
    "            \n",
    "            if best_val_loss > total_loss_val:\n",
    "                best_val_loss = total_loss_val\n",
    "                torch.save(model, f\"roberta_model_dreaddit.pt\")\n",
    "                print(\"Saved model\")\n",
    "                early_stopping_threshold_count = 0\n",
    "            else:\n",
    "                early_stopping_threshold_count += 1\n",
    "                \n",
    "            if early_stopping_threshold_count >= 15:\n",
    "                print(\"Early stopping\")\n",
    "                break\n",
    "    return tr_loss, t_loss, tr_acc, t_acc"
   ]
  },
  {
   "cell_type": "code",
   "execution_count": 9,
   "id": "03b1e2de",
   "metadata": {},
   "outputs": [
    {
     "name": "stderr",
     "output_type": "stream",
     "text": [
      "Some weights of the model checkpoint at roberta-base were not used when initializing RobertaModel: ['lm_head.layer_norm.weight', 'lm_head.dense.weight', 'lm_head.bias', 'lm_head.dense.bias', 'lm_head.layer_norm.bias']\n",
      "- This IS expected if you are initializing RobertaModel from the checkpoint of a model trained on another task or with another architecture (e.g. initializing a BertForSequenceClassification model from a BertForPreTraining model).\n",
      "- This IS NOT expected if you are initializing RobertaModel from the checkpoint of a model that you expect to be exactly identical (initializing a BertForSequenceClassification model from a BertForSequenceClassification model).\n",
      "Some weights of RobertaModel were not initialized from the model checkpoint at roberta-base and are newly initialized: ['roberta.pooler.dense.bias', 'roberta.pooler.dense.weight']\n",
      "You should probably TRAIN this model on a down-stream task to be able to use it for predictions and inference.\n"
     ]
    },
    {
     "name": "stdout",
     "output_type": "stream",
     "text": [
      "Entry 860: even still says things makes feel uncomfortable example suggest something somewhere could somewhat uniqueinteresting watching documentary sex workers going church vienna listen choir boys sing first reaction via text wtf instantly feel bad angry saying wtf plans interests confront says wasnt saying excuse saying wtf insert whatever subject matter\n",
      "Entry 1294: feel like pit cannot escape know anxious time terrified fucking know sure anxious cannot focus well think straight likely fuck somehow everytime feel like want belittle much deliberately purposefully want see covered blood bruises feel like deserve edit\n",
      "Entry 1130: original url far rolls dark purple tulle rolls light purple arrived thank usunriselady tulle thank ufalcompro various spools tulle sparkly silver tulle arrived today stunning\n",
      "Entry 1095: battle making years tension desperation resolution comes head moment declare violence one lay upon ground defeat longer accept status quo exists existence questionable “mediocre” best highs come many lows\n",
      "Entry 1638: spent six years abusive relationship child together born made way ended fleeing several houses apartments trying stay away there’s long history\n",
      "\n",
      "Entry 102: left buddys house went organic farm volunteered little nature could clear head really enjoyed immensely quickly realized would able get ahead make living though learned lot valuable skills take along way journey came back month dfw metroplex reside dad step mom siblings stay humble shack backyard fixed cot extension cord dad allowing stay able get job expecting first paycheck september\n",
      "Entry 435: learned manifest love actions good body cooked diabeticfriendly meal every night even cutting block cheese opening package pepperoni spent little extra tissues found ones liked best kept boxes every room house “splurged” bath bombs could naked bathroom brushed hair bed every night\n",
      "Entry 270: time school way bigger many rooms scattered around school worried won’t able find class supposed know room school large i’m ready\n",
      "Entry 106: freelancer means pay isnt always steady also frequent painful difficult digestive issues well migraines lay several times month work hard make effort save months bills wipe coming bout sick feeling eating thanks pay waits bills broke bit brown rice gelatin house made post morning rrandomactsofpizza mod pointed slightly substantial help\n",
      "Entry 71: messages essentially guy flirtatious asking come place gf’s responses flirtatious definitely welcoming responded offer saying “how meet halfway grab lunch together time” never told even still contact guy relationship explicitly sexual friendly\n",
      "\n"
     ]
    },
    {
     "name": "stderr",
     "output_type": "stream",
     "text": [
      "100%|███████████████████████████████████████████████████████████████████████████████████████████████████████████████████████████████████████████████████████████████████████| 284/284 [01:19<00:00,  3.56it/s]\n",
      "100%|█████████████████████████████████████████████████████████████████████████████████████████████████████████████████████████████████████████████████████████████████████████| 71/71 [00:06<00:00, 11.07it/s]\n"
     ]
    },
    {
     "name": "stdout",
     "output_type": "stream",
     "text": [
      "Epochs: 1 | Train Loss:  0.699 | Train Accuracy:  0.503 | Val Loss:  0.700 | Val Accuracy:  0.463\n",
      "Saved model\n"
     ]
    },
    {
     "name": "stderr",
     "output_type": "stream",
     "text": [
      "100%|███████████████████████████████████████████████████████████████████████████████████████████████████████████████████████████████████████████████████████████████████████| 284/284 [01:20<00:00,  3.53it/s]\n",
      "100%|█████████████████████████████████████████████████████████████████████████████████████████████████████████████████████████████████████████████████████████████████████████| 71/71 [00:06<00:00, 10.99it/s]\n"
     ]
    },
    {
     "name": "stdout",
     "output_type": "stream",
     "text": [
      "Epochs: 2 | Train Loss:  0.696 | Train Accuracy:  0.479 | Val Loss:  0.696 | Val Accuracy:  0.463\n",
      "Saved model\n"
     ]
    },
    {
     "name": "stderr",
     "output_type": "stream",
     "text": [
      "100%|███████████████████████████████████████████████████████████████████████████████████████████████████████████████████████████████████████████████████████████████████████| 284/284 [01:20<00:00,  3.52it/s]\n",
      "100%|█████████████████████████████████████████████████████████████████████████████████████████████████████████████████████████████████████████████████████████████████████████| 71/71 [00:06<00:00, 10.98it/s]\n"
     ]
    },
    {
     "name": "stdout",
     "output_type": "stream",
     "text": [
      "Epochs: 3 | Train Loss:  0.694 | Train Accuracy:  0.479 | Val Loss:  0.694 | Val Accuracy:  0.463\n",
      "Saved model\n"
     ]
    },
    {
     "name": "stderr",
     "output_type": "stream",
     "text": [
      "100%|███████████████████████████████████████████████████████████████████████████████████████████████████████████████████████████████████████████████████████████████████████| 284/284 [01:20<00:00,  3.52it/s]\n",
      "100%|█████████████████████████████████████████████████████████████████████████████████████████████████████████████████████████████████████████████████████████████████████████| 71/71 [00:06<00:00, 10.98it/s]\n"
     ]
    },
    {
     "name": "stdout",
     "output_type": "stream",
     "text": [
      "Epochs: 4 | Train Loss:  0.693 | Train Accuracy:  0.500 | Val Loss:  0.692 | Val Accuracy:  0.537\n",
      "Saved model\n"
     ]
    },
    {
     "name": "stderr",
     "output_type": "stream",
     "text": [
      "100%|███████████████████████████████████████████████████████████████████████████████████████████████████████████████████████████████████████████████████████████████████████| 284/284 [01:20<00:00,  3.52it/s]\n",
      "100%|█████████████████████████████████████████████████████████████████████████████████████████████████████████████████████████████████████████████████████████████████████████| 71/71 [00:06<00:00, 10.98it/s]\n"
     ]
    },
    {
     "name": "stdout",
     "output_type": "stream",
     "text": [
      "Epochs: 5 | Train Loss:  0.693 | Train Accuracy:  0.521 | Val Loss:  0.692 | Val Accuracy:  0.537\n",
      "Saved model\n"
     ]
    },
    {
     "name": "stderr",
     "output_type": "stream",
     "text": [
      "100%|███████████████████████████████████████████████████████████████████████████████████████████████████████████████████████████████████████████████████████████████████████| 284/284 [01:20<00:00,  3.52it/s]\n",
      "100%|█████████████████████████████████████████████████████████████████████████████████████████████████████████████████████████████████████████████████████████████████████████| 71/71 [00:06<00:00, 10.98it/s]\n"
     ]
    },
    {
     "name": "stdout",
     "output_type": "stream",
     "text": [
      "Epochs: 6 | Train Loss:  0.692 | Train Accuracy:  0.521 | Val Loss:  0.691 | Val Accuracy:  0.537\n",
      "Saved model\n"
     ]
    },
    {
     "name": "stderr",
     "output_type": "stream",
     "text": [
      "100%|███████████████████████████████████████████████████████████████████████████████████████████████████████████████████████████████████████████████████████████████████████| 284/284 [01:20<00:00,  3.52it/s]\n",
      "100%|█████████████████████████████████████████████████████████████████████████████████████████████████████████████████████████████████████████████████████████████████████████| 71/71 [00:06<00:00, 10.98it/s]\n"
     ]
    },
    {
     "name": "stdout",
     "output_type": "stream",
     "text": [
      "Epochs: 7 | Train Loss:  0.692 | Train Accuracy:  0.521 | Val Loss:  0.691 | Val Accuracy:  0.537\n",
      "Saved model\n"
     ]
    },
    {
     "name": "stderr",
     "output_type": "stream",
     "text": [
      "100%|███████████████████████████████████████████████████████████████████████████████████████████████████████████████████████████████████████████████████████████████████████| 284/284 [01:20<00:00,  3.52it/s]\n",
      "100%|█████████████████████████████████████████████████████████████████████████████████████████████████████████████████████████████████████████████████████████████████████████| 71/71 [00:06<00:00, 10.98it/s]\n"
     ]
    },
    {
     "name": "stdout",
     "output_type": "stream",
     "text": [
      "Epochs: 8 | Train Loss:  0.692 | Train Accuracy:  0.521 | Val Loss:  0.691 | Val Accuracy:  0.537\n",
      "Saved model\n"
     ]
    },
    {
     "name": "stderr",
     "output_type": "stream",
     "text": [
      "100%|███████████████████████████████████████████████████████████████████████████████████████████████████████████████████████████████████████████████████████████████████████| 284/284 [01:20<00:00,  3.52it/s]\n",
      "100%|█████████████████████████████████████████████████████████████████████████████████████████████████████████████████████████████████████████████████████████████████████████| 71/71 [00:06<00:00, 10.98it/s]\n"
     ]
    },
    {
     "name": "stdout",
     "output_type": "stream",
     "text": [
      "Epochs: 9 | Train Loss:  0.692 | Train Accuracy:  0.521 | Val Loss:  0.691 | Val Accuracy:  0.537\n",
      "Saved model\n"
     ]
    },
    {
     "name": "stderr",
     "output_type": "stream",
     "text": [
      "100%|███████████████████████████████████████████████████████████████████████████████████████████████████████████████████████████████████████████████████████████████████████| 284/284 [01:20<00:00,  3.52it/s]\n",
      "100%|█████████████████████████████████████████████████████████████████████████████████████████████████████████████████████████████████████████████████████████████████████████| 71/71 [00:06<00:00, 10.98it/s]\n"
     ]
    },
    {
     "name": "stdout",
     "output_type": "stream",
     "text": [
      "Epochs: 10 | Train Loss:  0.692 | Train Accuracy:  0.521 | Val Loss:  0.691 | Val Accuracy:  0.537\n",
      "Saved model\n"
     ]
    },
    {
     "name": "stderr",
     "output_type": "stream",
     "text": [
      "100%|███████████████████████████████████████████████████████████████████████████████████████████████████████████████████████████████████████████████████████████████████████| 284/284 [01:20<00:00,  3.52it/s]\n",
      "100%|█████████████████████████████████████████████████████████████████████████████████████████████████████████████████████████████████████████████████████████████████████████| 71/71 [00:06<00:00, 10.98it/s]\n"
     ]
    },
    {
     "name": "stdout",
     "output_type": "stream",
     "text": [
      "Epochs: 11 | Train Loss:  0.692 | Train Accuracy:  0.521 | Val Loss:  0.691 | Val Accuracy:  0.537\n",
      "Saved model\n"
     ]
    },
    {
     "name": "stderr",
     "output_type": "stream",
     "text": [
      "100%|███████████████████████████████████████████████████████████████████████████████████████████████████████████████████████████████████████████████████████████████████████| 284/284 [01:20<00:00,  3.52it/s]\n",
      "100%|█████████████████████████████████████████████████████████████████████████████████████████████████████████████████████████████████████████████████████████████████████████| 71/71 [00:06<00:00, 10.98it/s]\n"
     ]
    },
    {
     "name": "stdout",
     "output_type": "stream",
     "text": [
      "Epochs: 12 | Train Loss:  0.692 | Train Accuracy:  0.521 | Val Loss:  0.691 | Val Accuracy:  0.537\n"
     ]
    },
    {
     "name": "stderr",
     "output_type": "stream",
     "text": [
      "100%|███████████████████████████████████████████████████████████████████████████████████████████████████████████████████████████████████████████████████████████████████████| 284/284 [01:20<00:00,  3.52it/s]\n",
      "100%|█████████████████████████████████████████████████████████████████████████████████████████████████████████████████████████████████████████████████████████████████████████| 71/71 [00:06<00:00, 10.98it/s]\n"
     ]
    },
    {
     "name": "stdout",
     "output_type": "stream",
     "text": [
      "Epochs: 13 | Train Loss:  0.692 | Train Accuracy:  0.521 | Val Loss:  0.691 | Val Accuracy:  0.537\n"
     ]
    },
    {
     "name": "stderr",
     "output_type": "stream",
     "text": [
      "100%|███████████████████████████████████████████████████████████████████████████████████████████████████████████████████████████████████████████████████████████████████████| 284/284 [01:20<00:00,  3.52it/s]\n",
      "100%|█████████████████████████████████████████████████████████████████████████████████████████████████████████████████████████████████████████████████████████████████████████| 71/71 [00:06<00:00, 10.98it/s]\n"
     ]
    },
    {
     "name": "stdout",
     "output_type": "stream",
     "text": [
      "Epochs: 14 | Train Loss:  0.692 | Train Accuracy:  0.521 | Val Loss:  0.691 | Val Accuracy:  0.537\n",
      "Saved model\n"
     ]
    },
    {
     "name": "stderr",
     "output_type": "stream",
     "text": [
      "100%|███████████████████████████████████████████████████████████████████████████████████████████████████████████████████████████████████████████████████████████████████████| 284/284 [01:20<00:00,  3.52it/s]\n",
      "100%|█████████████████████████████████████████████████████████████████████████████████████████████████████████████████████████████████████████████████████████████████████████| 71/71 [00:06<00:00, 10.99it/s]\n"
     ]
    },
    {
     "name": "stdout",
     "output_type": "stream",
     "text": [
      "Epochs: 15 | Train Loss:  0.692 | Train Accuracy:  0.521 | Val Loss:  0.691 | Val Accuracy:  0.537\n"
     ]
    },
    {
     "name": "stderr",
     "output_type": "stream",
     "text": [
      "100%|███████████████████████████████████████████████████████████████████████████████████████████████████████████████████████████████████████████████████████████████████████| 284/284 [01:20<00:00,  3.52it/s]\n",
      "100%|█████████████████████████████████████████████████████████████████████████████████████████████████████████████████████████████████████████████████████████████████████████| 71/71 [00:06<00:00, 10.98it/s]\n"
     ]
    },
    {
     "name": "stdout",
     "output_type": "stream",
     "text": [
      "Epochs: 16 | Train Loss:  0.692 | Train Accuracy:  0.521 | Val Loss:  0.691 | Val Accuracy:  0.537\n"
     ]
    },
    {
     "name": "stderr",
     "output_type": "stream",
     "text": [
      "100%|███████████████████████████████████████████████████████████████████████████████████████████████████████████████████████████████████████████████████████████████████████| 284/284 [01:20<00:00,  3.52it/s]\n",
      "100%|█████████████████████████████████████████████████████████████████████████████████████████████████████████████████████████████████████████████████████████████████████████| 71/71 [00:06<00:00, 10.99it/s]\n"
     ]
    },
    {
     "name": "stdout",
     "output_type": "stream",
     "text": [
      "Epochs: 17 | Train Loss:  0.692 | Train Accuracy:  0.521 | Val Loss:  0.691 | Val Accuracy:  0.537\n"
     ]
    },
    {
     "name": "stderr",
     "output_type": "stream",
     "text": [
      "100%|███████████████████████████████████████████████████████████████████████████████████████████████████████████████████████████████████████████████████████████████████████| 284/284 [01:20<00:00,  3.52it/s]\n",
      "100%|█████████████████████████████████████████████████████████████████████████████████████████████████████████████████████████████████████████████████████████████████████████| 71/71 [00:06<00:00, 10.98it/s]\n"
     ]
    },
    {
     "name": "stdout",
     "output_type": "stream",
     "text": [
      "Epochs: 18 | Train Loss:  0.692 | Train Accuracy:  0.521 | Val Loss:  0.691 | Val Accuracy:  0.537\n"
     ]
    },
    {
     "name": "stderr",
     "output_type": "stream",
     "text": [
      "100%|███████████████████████████████████████████████████████████████████████████████████████████████████████████████████████████████████████████████████████████████████████| 284/284 [01:20<00:00,  3.52it/s]\n",
      "100%|█████████████████████████████████████████████████████████████████████████████████████████████████████████████████████████████████████████████████████████████████████████| 71/71 [00:06<00:00, 10.98it/s]\n"
     ]
    },
    {
     "name": "stdout",
     "output_type": "stream",
     "text": [
      "Epochs: 19 | Train Loss:  0.692 | Train Accuracy:  0.521 | Val Loss:  0.691 | Val Accuracy:  0.537\n",
      "Saved model\n"
     ]
    },
    {
     "name": "stderr",
     "output_type": "stream",
     "text": [
      "100%|███████████████████████████████████████████████████████████████████████████████████████████████████████████████████████████████████████████████████████████████████████| 284/284 [01:20<00:00,  3.52it/s]\n",
      "100%|█████████████████████████████████████████████████████████████████████████████████████████████████████████████████████████████████████████████████████████████████████████| 71/71 [00:06<00:00, 10.98it/s]\n"
     ]
    },
    {
     "name": "stdout",
     "output_type": "stream",
     "text": [
      "Epochs: 20 | Train Loss:  0.692 | Train Accuracy:  0.521 | Val Loss:  0.691 | Val Accuracy:  0.537\n",
      "Saved model\n"
     ]
    },
    {
     "name": "stderr",
     "output_type": "stream",
     "text": [
      "100%|███████████████████████████████████████████████████████████████████████████████████████████████████████████████████████████████████████████████████████████████████████| 284/284 [01:20<00:00,  3.52it/s]\n",
      "100%|█████████████████████████████████████████████████████████████████████████████████████████████████████████████████████████████████████████████████████████████████████████| 71/71 [00:06<00:00, 10.98it/s]\n"
     ]
    },
    {
     "name": "stdout",
     "output_type": "stream",
     "text": [
      "Epochs: 21 | Train Loss:  0.692 | Train Accuracy:  0.521 | Val Loss:  0.691 | Val Accuracy:  0.537\n",
      "Saved model\n"
     ]
    },
    {
     "name": "stderr",
     "output_type": "stream",
     "text": [
      "100%|███████████████████████████████████████████████████████████████████████████████████████████████████████████████████████████████████████████████████████████████████████| 284/284 [01:20<00:00,  3.52it/s]\n",
      "100%|█████████████████████████████████████████████████████████████████████████████████████████████████████████████████████████████████████████████████████████████████████████| 71/71 [00:06<00:00, 10.99it/s]\n"
     ]
    },
    {
     "name": "stdout",
     "output_type": "stream",
     "text": [
      "Epochs: 22 | Train Loss:  0.692 | Train Accuracy:  0.521 | Val Loss:  0.691 | Val Accuracy:  0.537\n"
     ]
    },
    {
     "name": "stderr",
     "output_type": "stream",
     "text": [
      "100%|███████████████████████████████████████████████████████████████████████████████████████████████████████████████████████████████████████████████████████████████████████| 284/284 [01:20<00:00,  3.52it/s]\n",
      "100%|█████████████████████████████████████████████████████████████████████████████████████████████████████████████████████████████████████████████████████████████████████████| 71/71 [00:06<00:00, 10.99it/s]\n"
     ]
    },
    {
     "name": "stdout",
     "output_type": "stream",
     "text": [
      "Epochs: 23 | Train Loss:  0.692 | Train Accuracy:  0.521 | Val Loss:  0.691 | Val Accuracy:  0.537\n"
     ]
    },
    {
     "name": "stderr",
     "output_type": "stream",
     "text": [
      "100%|███████████████████████████████████████████████████████████████████████████████████████████████████████████████████████████████████████████████████████████████████████| 284/284 [01:20<00:00,  3.52it/s]\n",
      "100%|█████████████████████████████████████████████████████████████████████████████████████████████████████████████████████████████████████████████████████████████████████████| 71/71 [00:06<00:00, 10.98it/s]\n"
     ]
    },
    {
     "name": "stdout",
     "output_type": "stream",
     "text": [
      "Epochs: 24 | Train Loss:  0.692 | Train Accuracy:  0.521 | Val Loss:  0.691 | Val Accuracy:  0.537\n"
     ]
    },
    {
     "name": "stderr",
     "output_type": "stream",
     "text": [
      "100%|███████████████████████████████████████████████████████████████████████████████████████████████████████████████████████████████████████████████████████████████████████| 284/284 [01:20<00:00,  3.52it/s]\n",
      "100%|█████████████████████████████████████████████████████████████████████████████████████████████████████████████████████████████████████████████████████████████████████████| 71/71 [00:06<00:00, 10.98it/s]\n"
     ]
    },
    {
     "name": "stdout",
     "output_type": "stream",
     "text": [
      "Epochs: 25 | Train Loss:  0.692 | Train Accuracy:  0.521 | Val Loss:  0.691 | Val Accuracy:  0.537\n"
     ]
    },
    {
     "name": "stderr",
     "output_type": "stream",
     "text": [
      "100%|███████████████████████████████████████████████████████████████████████████████████████████████████████████████████████████████████████████████████████████████████████| 284/284 [01:20<00:00,  3.52it/s]\n",
      "100%|█████████████████████████████████████████████████████████████████████████████████████████████████████████████████████████████████████████████████████████████████████████| 71/71 [00:06<00:00, 10.98it/s]\n"
     ]
    },
    {
     "name": "stdout",
     "output_type": "stream",
     "text": [
      "Epochs: 26 | Train Loss:  0.692 | Train Accuracy:  0.521 | Val Loss:  0.691 | Val Accuracy:  0.537\n"
     ]
    },
    {
     "name": "stderr",
     "output_type": "stream",
     "text": [
      "100%|███████████████████████████████████████████████████████████████████████████████████████████████████████████████████████████████████████████████████████████████████████| 284/284 [01:20<00:00,  3.52it/s]\n",
      "100%|█████████████████████████████████████████████████████████████████████████████████████████████████████████████████████████████████████████████████████████████████████████| 71/71 [00:06<00:00, 10.99it/s]\n"
     ]
    },
    {
     "name": "stdout",
     "output_type": "stream",
     "text": [
      "Epochs: 27 | Train Loss:  0.692 | Train Accuracy:  0.521 | Val Loss:  0.691 | Val Accuracy:  0.537\n"
     ]
    },
    {
     "name": "stderr",
     "output_type": "stream",
     "text": [
      "100%|███████████████████████████████████████████████████████████████████████████████████████████████████████████████████████████████████████████████████████████████████████| 284/284 [01:20<00:00,  3.52it/s]\n",
      "100%|█████████████████████████████████████████████████████████████████████████████████████████████████████████████████████████████████████████████████████████████████████████| 71/71 [00:06<00:00, 10.98it/s]\n"
     ]
    },
    {
     "name": "stdout",
     "output_type": "stream",
     "text": [
      "Epochs: 28 | Train Loss:  0.692 | Train Accuracy:  0.521 | Val Loss:  0.691 | Val Accuracy:  0.537\n"
     ]
    },
    {
     "name": "stderr",
     "output_type": "stream",
     "text": [
      "100%|███████████████████████████████████████████████████████████████████████████████████████████████████████████████████████████████████████████████████████████████████████| 284/284 [01:20<00:00,  3.52it/s]\n",
      "100%|█████████████████████████████████████████████████████████████████████████████████████████████████████████████████████████████████████████████████████████████████████████| 71/71 [00:06<00:00, 10.98it/s]\n"
     ]
    },
    {
     "name": "stdout",
     "output_type": "stream",
     "text": [
      "Epochs: 29 | Train Loss:  0.692 | Train Accuracy:  0.521 | Val Loss:  0.691 | Val Accuracy:  0.537\n"
     ]
    },
    {
     "name": "stderr",
     "output_type": "stream",
     "text": [
      "100%|███████████████████████████████████████████████████████████████████████████████████████████████████████████████████████████████████████████████████████████████████████| 284/284 [01:20<00:00,  3.52it/s]\n",
      "100%|█████████████████████████████████████████████████████████████████████████████████████████████████████████████████████████████████████████████████████████████████████████| 71/71 [00:06<00:00, 10.99it/s]\n"
     ]
    },
    {
     "name": "stdout",
     "output_type": "stream",
     "text": [
      "Epochs: 30 | Train Loss:  0.692 | Train Accuracy:  0.521 | Val Loss:  0.691 | Val Accuracy:  0.537\n"
     ]
    },
    {
     "name": "stderr",
     "output_type": "stream",
     "text": [
      "100%|███████████████████████████████████████████████████████████████████████████████████████████████████████████████████████████████████████████████████████████████████████| 284/284 [01:20<00:00,  3.52it/s]\n",
      "100%|█████████████████████████████████████████████████████████████████████████████████████████████████████████████████████████████████████████████████████████████████████████| 71/71 [00:06<00:00, 10.98it/s]\n"
     ]
    },
    {
     "name": "stdout",
     "output_type": "stream",
     "text": [
      "Epochs: 31 | Train Loss:  0.692 | Train Accuracy:  0.521 | Val Loss:  0.691 | Val Accuracy:  0.537\n"
     ]
    },
    {
     "name": "stderr",
     "output_type": "stream",
     "text": [
      "100%|███████████████████████████████████████████████████████████████████████████████████████████████████████████████████████████████████████████████████████████████████████| 284/284 [01:20<00:00,  3.52it/s]\n",
      "100%|█████████████████████████████████████████████████████████████████████████████████████████████████████████████████████████████████████████████████████████████████████████| 71/71 [00:06<00:00, 10.99it/s]\n"
     ]
    },
    {
     "name": "stdout",
     "output_type": "stream",
     "text": [
      "Epochs: 32 | Train Loss:  0.692 | Train Accuracy:  0.521 | Val Loss:  0.691 | Val Accuracy:  0.537\n"
     ]
    },
    {
     "name": "stderr",
     "output_type": "stream",
     "text": [
      "100%|███████████████████████████████████████████████████████████████████████████████████████████████████████████████████████████████████████████████████████████████████████| 284/284 [01:20<00:00,  3.52it/s]\n",
      "100%|█████████████████████████████████████████████████████████████████████████████████████████████████████████████████████████████████████████████████████████████████████████| 71/71 [00:06<00:00, 10.99it/s]\n"
     ]
    },
    {
     "name": "stdout",
     "output_type": "stream",
     "text": [
      "Epochs: 33 | Train Loss:  0.692 | Train Accuracy:  0.521 | Val Loss:  0.691 | Val Accuracy:  0.537\n"
     ]
    },
    {
     "name": "stderr",
     "output_type": "stream",
     "text": [
      "100%|███████████████████████████████████████████████████████████████████████████████████████████████████████████████████████████████████████████████████████████████████████| 284/284 [01:20<00:00,  3.52it/s]\n",
      "100%|█████████████████████████████████████████████████████████████████████████████████████████████████████████████████████████████████████████████████████████████████████████| 71/71 [00:06<00:00, 10.98it/s]\n"
     ]
    },
    {
     "name": "stdout",
     "output_type": "stream",
     "text": [
      "Epochs: 34 | Train Loss:  0.692 | Train Accuracy:  0.521 | Val Loss:  0.691 | Val Accuracy:  0.537\n"
     ]
    },
    {
     "name": "stderr",
     "output_type": "stream",
     "text": [
      "100%|███████████████████████████████████████████████████████████████████████████████████████████████████████████████████████████████████████████████████████████████████████| 284/284 [01:20<00:00,  3.52it/s]\n",
      "100%|█████████████████████████████████████████████████████████████████████████████████████████████████████████████████████████████████████████████████████████████████████████| 71/71 [00:06<00:00, 10.98it/s]\n"
     ]
    },
    {
     "name": "stdout",
     "output_type": "stream",
     "text": [
      "Epochs: 35 | Train Loss:  0.692 | Train Accuracy:  0.521 | Val Loss:  0.691 | Val Accuracy:  0.537\n"
     ]
    },
    {
     "name": "stderr",
     "output_type": "stream",
     "text": [
      "100%|███████████████████████████████████████████████████████████████████████████████████████████████████████████████████████████████████████████████████████████████████████| 284/284 [01:20<00:00,  3.52it/s]\n",
      "100%|█████████████████████████████████████████████████████████████████████████████████████████████████████████████████████████████████████████████████████████████████████████| 71/71 [00:06<00:00, 10.98it/s]"
     ]
    },
    {
     "name": "stdout",
     "output_type": "stream",
     "text": [
      "Epochs: 36 | Train Loss:  0.692 | Train Accuracy:  0.521 | Val Loss:  0.691 | Val Accuracy:  0.537\n",
      "Early stopping\n"
     ]
    },
    {
     "name": "stderr",
     "output_type": "stream",
     "text": [
      "\n"
     ]
    }
   ],
   "source": [
    "from transformers import AutoTokenizer, AutoModel\n",
    "from torch.utils.data import DataLoader\n",
    "\n",
    "torch.manual_seed(0)\n",
    "np.random.seed(0)\n",
    "    \n",
    "    \n",
    "BERT_MODEL = \"roberta-base\"\n",
    "tokenizer = AutoTokenizer.from_pretrained(BERT_MODEL)\n",
    "base_model = AutoModel.from_pretrained(BERT_MODEL)\n",
    "\n",
    "train_dataloader = DataLoader(D_Dataset(train_data, tokenizer), batch_size=8, shuffle=True, num_workers=0)\n",
    "val_dataloader = DataLoader(D_Dataset(val_data, tokenizer), batch_size=8, num_workers=0)\n",
    "\n",
    "model = Classifier(base_model)\n",
    "\n",
    "\n",
    "learning_rate = 1e-3\n",
    "epochs = 50\n",
    "train_loss_values, val_loss_values, train_accuracy_values, val_accuracy_values= train(model, train_dataloader, val_dataloader, learning_rate, epochs)"
   ]
  },
  {
   "cell_type": "code",
   "execution_count": 10,
   "id": "00c40b51",
   "metadata": {},
   "outputs": [
    {
     "data": {
      "image/png": "[encoded data removed]",
      "text/plain": [
       "<Figure size 1000x400 with 2 Axes>"
      ]
     },
     "metadata": {},
     "output_type": "display_data"
    }
   ],
   "source": [
    "# Plotting learning curves\n",
    "plt.figure(figsize=(10, 4))\n",
    "plt.subplot(1, 2, 1)\n",
    "plt.plot(train_loss_values, label='Training Loss')\n",
    "plt.plot(val_loss_values, label='Validation Loss')\n",
    "plt.xlabel('Epoch')\n",
    "plt.ylabel('Loss')\n",
    "plt.title('Training and Validation Loss')\n",
    "plt.legend()\n",
    "\n",
    "plt.subplot(1, 2, 2)\n",
    "plt.plot(train_accuracy_values, label='Training Accuracy')\n",
    "plt.plot(val_accuracy_values, label='Validation Accuracy')\n",
    "plt.xlabel('Epoch')\n",
    "plt.ylabel('Accuracy')\n",
    "plt.title('Training and Validation Accuracy')\n",
    "plt.legend()\n",
    "plt.tight_layout()\n",
    "plt.show()"
   ]
  },
  {
   "cell_type": "code",
   "execution_count": 11,
   "id": "0728fa99",
   "metadata": {},
   "outputs": [],
   "source": [
    "def get_text_predictions(model, loader):\n",
    "    use_cuda = torch.cuda.is_available()\n",
    "    device = torch.device(\"cuda:1\" if use_cuda else \"cpu\")\n",
    "#     if torch.cuda.device_count() > 1:\n",
    "#         device_ids = [1, 2, 3,4,5,6]  # Specify the desired GPU device IDs\n",
    "#         print(\"Using\", len(device_ids), \"GPUs!\")\n",
    "#         model = nn.DataParallel(model, device_ids=device_ids)\n",
    "\n",
    "    model = model.to(device)\n",
    "    \n",
    "    \n",
    "    results_predictions = []\n",
    "    with torch.no_grad():\n",
    "        model.eval()\n",
    "        for data_input, _ in tqdm(loader):\n",
    "            attention_mask = data_input['attention_mask'].to(device)\n",
    "            input_ids = data_input['input_ids'].squeeze(1).to(device)\n",
    "\n",
    "\n",
    "            output = model(input_ids, attention_mask)\n",
    "            \n",
    "            output = (output > 0.5).int()\n",
    "            results_predictions.append(output)\n",
    "    \n",
    "    return torch.cat(results_predictions).cpu().detach().numpy()"
   ]
  },
  {
   "cell_type": "code",
   "execution_count": 12,
   "id": "58623cd3",
   "metadata": {},
   "outputs": [],
   "source": [
    "model = torch.load(\"roberta_model_dreaddit.pt\")"
   ]
  },
  {
   "cell_type": "code",
   "execution_count": 13,
   "id": "a8d887e9",
   "metadata": {},
   "outputs": [],
   "source": [
    "# Load and preprocess the dataset\n",
    "read_file = pd.read_csv(\"/home/irteam/dreaddit/dreaddit-test.csv\")\n",
    "test_df = pd.DataFrame(read_file, columns=['text', 'label'])\n",
    "# test_df = test_df.rename(columns={'Text': 'text', 'Label': 'label'})\n",
    "test_df = test_df.convert_dtypes()\n",
    "test_df.drop(test_df[test_df.text==\"emptypost\"].index, inplace=True)\n",
    "test_df.drop(test_df[test_df.label==\" \"].index, inplace=True)\n",
    "test_df.dropna(inplace=True)\n",
    "test_df = test_df.reset_index(drop=True)"
   ]
  },
  {
   "cell_type": "code",
   "execution_count": 14,
   "id": "4f1a0e9e",
   "metadata": {},
   "outputs": [
    {
     "name": "stdout",
     "output_type": "stream",
     "text": [
      "                                                  text  label\n",
      "0    Its like that, if you want or not.“ ME: I have...      0\n",
      "1    I man the front desk and my title is HR Custom...      0\n",
      "2    We'd be saving so much money with this new hou...      1\n",
      "3    My ex used to shoot back with \"Do you want me ...      1\n",
      "4    I haven’t said anything to him yet because I’m...      0\n",
      "..                                                 ...    ...\n",
      "710  i have horrible vivid nightmares every night. ...      1\n",
      "711  Also I can't think about both of them without ...      1\n",
      "712  Furthermore, I told him before we got really s...      1\n",
      "713  Here's the link to my amazon wish list where t...      0\n",
      "714  How can I keep us protected? They have already...      1\n",
      "\n",
      "[715 rows x 2 columns]\n"
     ]
    }
   ],
   "source": [
    "print(test_df)"
   ]
  },
  {
   "cell_type": "code",
   "execution_count": 15,
   "id": "c50e0835",
   "metadata": {},
   "outputs": [
    {
     "name": "stdout",
     "output_type": "stream",
     "text": [
      "Entry 102: dad utterly distraught never laid finger hes even allowed house overnight visitations supervised stay dads house overnight mom something horrible foced flee house nbsp struggled making friends abuse home unruly behavior school\n",
      "Entry 435: moving following workday went shop collect dishes stuff brought party beer chilled gang owner shop busts wifes concerns notsosavvy self didnt know meant first realization washed suspected affair mortified horrified shamified\n",
      "Entry 270: brothers wedding soon like soon fiance recently lost job move bunch medical drama happened told would everything could get honestly sure want prove care brother smart compassionate enough say dead set going despite obvious problems advice majority people everywhere\n",
      "Entry 106: adult mental illness went messy breakup unhealthy thought one codependant relationship felt like letting use body end ended basically non functioning isolated living couch eating take away day last months started staying parents intermittently november rough time processing stuff cue four days remembering incidents inappropriate sexual touching father child non stop\n",
      "Entry 71: stuck didnt means leave hard time accepting abuse tried change behaviour nothing ever good enough typical narcissistic empath relationship slowly realized even wrong didnt warrant treatment cue months gaslighting suffering ppd may somewhat true didnt dismiss fact also abusive\n",
      "\n"
     ]
    }
   ],
   "source": [
    "test_dataloader = DataLoader(D_Dataset(test_df, tokenizer), batch_size=8, shuffle=False, num_workers=0)"
   ]
  },
  {
   "cell_type": "code",
   "execution_count": 16,
   "id": "8b15bf3e",
   "metadata": {},
   "outputs": [],
   "source": [
    "sample_submission = pd.read_csv(\"/home/irteam/dreaddit/dreaddit-test.csv\")"
   ]
  },
  {
   "cell_type": "code",
   "execution_count": 17,
   "id": "c3f067fe",
   "metadata": {},
   "outputs": [
    {
     "name": "stderr",
     "output_type": "stream",
     "text": [
      "100%|█████████████████████████████████████████████████████████████████████████████████████████████████████████████████████████████████████████████████████████████████████████| 90/90 [00:08<00:00, 11.17it/s]\n"
     ]
    }
   ],
   "source": [
    "sample_submission[\"prediction\"] = get_text_predictions(model, test_dataloader)"
   ]
  },
  {
   "cell_type": "code",
   "execution_count": 18,
   "id": "b7995311",
   "metadata": {},
   "outputs": [],
   "source": [
    "# display(sample_submission.head(20))"
   ]
  },
  {
   "cell_type": "code",
   "execution_count": 19,
   "id": "b4a37354",
   "metadata": {},
   "outputs": [
    {
     "data": {
      "text/html": [
       "<div>\n",
       "<style scoped>\n",
       "    .dataframe tbody tr th:only-of-type {\n",
       "        vertical-align: middle;\n",
       "    }\n",
       "\n",
       "    .dataframe tbody tr th {\n",
       "        vertical-align: top;\n",
       "    }\n",
       "\n",
       "    .dataframe thead th {\n",
       "        text-align: right;\n",
       "    }\n",
       "</style>\n",
       "<table border=\"1\" class=\"dataframe\">\n",
       "  <thead>\n",
       "    <tr style=\"text-align: right;\">\n",
       "      <th></th>\n",
       "      <th>id</th>\n",
       "      <th>subreddit</th>\n",
       "      <th>post_id</th>\n",
       "      <th>sentence_range</th>\n",
       "      <th>text</th>\n",
       "      <th>label</th>\n",
       "      <th>confidence</th>\n",
       "      <th>social_timestamp</th>\n",
       "      <th>social_karma</th>\n",
       "      <th>syntax_ari</th>\n",
       "      <th>...</th>\n",
       "      <th>lex_dal_min_activation</th>\n",
       "      <th>lex_dal_min_imagery</th>\n",
       "      <th>lex_dal_avg_activation</th>\n",
       "      <th>lex_dal_avg_imagery</th>\n",
       "      <th>lex_dal_avg_pleasantness</th>\n",
       "      <th>social_upvote_ratio</th>\n",
       "      <th>social_num_comments</th>\n",
       "      <th>syntax_fk_grade</th>\n",
       "      <th>sentiment</th>\n",
       "      <th>prediction</th>\n",
       "    </tr>\n",
       "  </thead>\n",
       "  <tbody>\n",
       "    <tr>\n",
       "      <th>0</th>\n",
       "      <td>896</td>\n",
       "      <td>relationships</td>\n",
       "      <td>7nu7as</td>\n",
       "      <td>[50, 55]</td>\n",
       "      <td>Its like that, if you want or not.“ ME: I have...</td>\n",
       "      <td>0</td>\n",
       "      <td>0.8</td>\n",
       "      <td>1.514981e+09</td>\n",
       "      <td>22</td>\n",
       "      <td>-1.238793</td>\n",
       "      <td>...</td>\n",
       "      <td>1.2000</td>\n",
       "      <td>1.0</td>\n",
       "      <td>1.65864</td>\n",
       "      <td>1.32245</td>\n",
       "      <td>1.80264</td>\n",
       "      <td>0.63</td>\n",
       "      <td>62</td>\n",
       "      <td>-0.148707</td>\n",
       "      <td>0.000000</td>\n",
       "      <td>1</td>\n",
       "    </tr>\n",
       "    <tr>\n",
       "      <th>1</th>\n",
       "      <td>19059</td>\n",
       "      <td>anxiety</td>\n",
       "      <td>680i6d</td>\n",
       "      <td>(5, 10)</td>\n",
       "      <td>I man the front desk and my title is HR Custom...</td>\n",
       "      <td>0</td>\n",
       "      <td>1.0</td>\n",
       "      <td>1.493348e+09</td>\n",
       "      <td>5</td>\n",
       "      <td>7.684583</td>\n",
       "      <td>...</td>\n",
       "      <td>1.1250</td>\n",
       "      <td>1.0</td>\n",
       "      <td>1.69133</td>\n",
       "      <td>1.69180</td>\n",
       "      <td>1.97249</td>\n",
       "      <td>1.00</td>\n",
       "      <td>2</td>\n",
       "      <td>7.398222</td>\n",
       "      <td>-0.065909</td>\n",
       "      <td>1</td>\n",
       "    </tr>\n",
       "    <tr>\n",
       "      <th>2</th>\n",
       "      <td>7977</td>\n",
       "      <td>ptsd</td>\n",
       "      <td>8eeu1t</td>\n",
       "      <td>(5, 10)</td>\n",
       "      <td>We'd be saving so much money with this new hou...</td>\n",
       "      <td>1</td>\n",
       "      <td>1.0</td>\n",
       "      <td>1.524517e+09</td>\n",
       "      <td>10</td>\n",
       "      <td>2.360408</td>\n",
       "      <td>...</td>\n",
       "      <td>1.0000</td>\n",
       "      <td>1.0</td>\n",
       "      <td>1.70974</td>\n",
       "      <td>1.52985</td>\n",
       "      <td>1.86108</td>\n",
       "      <td>1.00</td>\n",
       "      <td>8</td>\n",
       "      <td>3.149288</td>\n",
       "      <td>-0.036818</td>\n",
       "      <td>1</td>\n",
       "    </tr>\n",
       "    <tr>\n",
       "      <th>3</th>\n",
       "      <td>1214</td>\n",
       "      <td>ptsd</td>\n",
       "      <td>8d28vu</td>\n",
       "      <td>[2, 7]</td>\n",
       "      <td>My ex used to shoot back with \"Do you want me ...</td>\n",
       "      <td>1</td>\n",
       "      <td>0.5</td>\n",
       "      <td>1.524018e+09</td>\n",
       "      <td>5</td>\n",
       "      <td>5.997000</td>\n",
       "      <td>...</td>\n",
       "      <td>1.3000</td>\n",
       "      <td>1.0</td>\n",
       "      <td>1.72615</td>\n",
       "      <td>1.52000</td>\n",
       "      <td>1.84909</td>\n",
       "      <td>1.00</td>\n",
       "      <td>7</td>\n",
       "      <td>6.606000</td>\n",
       "      <td>-0.066667</td>\n",
       "      <td>1</td>\n",
       "    </tr>\n",
       "    <tr>\n",
       "      <th>4</th>\n",
       "      <td>1965</td>\n",
       "      <td>relationships</td>\n",
       "      <td>7r1e85</td>\n",
       "      <td>[23, 28]</td>\n",
       "      <td>I haven’t said anything to him yet because I’m...</td>\n",
       "      <td>0</td>\n",
       "      <td>0.8</td>\n",
       "      <td>1.516200e+09</td>\n",
       "      <td>138</td>\n",
       "      <td>4.649418</td>\n",
       "      <td>...</td>\n",
       "      <td>1.1429</td>\n",
       "      <td>1.0</td>\n",
       "      <td>1.75642</td>\n",
       "      <td>1.43582</td>\n",
       "      <td>1.91725</td>\n",
       "      <td>0.84</td>\n",
       "      <td>70</td>\n",
       "      <td>4.801869</td>\n",
       "      <td>0.141667</td>\n",
       "      <td>1</td>\n",
       "    </tr>\n",
       "    <tr>\n",
       "      <th>5</th>\n",
       "      <td>850</td>\n",
       "      <td>assistance</td>\n",
       "      <td>7py440</td>\n",
       "      <td>[10, 15]</td>\n",
       "      <td>Thanks. Edit 1 - Fuel Receipt As Requested. &lt;u...</td>\n",
       "      <td>0</td>\n",
       "      <td>1.0</td>\n",
       "      <td>1.515778e+09</td>\n",
       "      <td>7</td>\n",
       "      <td>0.910714</td>\n",
       "      <td>...</td>\n",
       "      <td>1.0000</td>\n",
       "      <td>1.0</td>\n",
       "      <td>1.70441</td>\n",
       "      <td>1.56364</td>\n",
       "      <td>1.76971</td>\n",
       "      <td>0.70</td>\n",
       "      <td>16</td>\n",
       "      <td>3.289524</td>\n",
       "      <td>-0.275000</td>\n",
       "      <td>1</td>\n",
       "    </tr>\n",
       "    <tr>\n",
       "      <th>6</th>\n",
       "      <td>1643</td>\n",
       "      <td>homeless</td>\n",
       "      <td>9e8zyg</td>\n",
       "      <td>[10, 15]</td>\n",
       "      <td>When moving into their tiny house, they would ...</td>\n",
       "      <td>0</td>\n",
       "      <td>0.0</td>\n",
       "      <td>1.536453e+09</td>\n",
       "      <td>14</td>\n",
       "      <td>15.815576</td>\n",
       "      <td>...</td>\n",
       "      <td>1.0000</td>\n",
       "      <td>1.0</td>\n",
       "      <td>1.59863</td>\n",
       "      <td>1.41860</td>\n",
       "      <td>1.82149</td>\n",
       "      <td>0.82</td>\n",
       "      <td>15</td>\n",
       "      <td>13.097570</td>\n",
       "      <td>0.000000</td>\n",
       "      <td>1</td>\n",
       "    </tr>\n",
       "    <tr>\n",
       "      <th>7</th>\n",
       "      <td>39090</td>\n",
       "      <td>anxiety</td>\n",
       "      <td>71ma4y</td>\n",
       "      <td>(0, 5)</td>\n",
       "      <td>More specifically, for example, I live with ro...</td>\n",
       "      <td>1</td>\n",
       "      <td>0.8</td>\n",
       "      <td>1.506028e+09</td>\n",
       "      <td>6</td>\n",
       "      <td>10.029951</td>\n",
       "      <td>...</td>\n",
       "      <td>1.1429</td>\n",
       "      <td>1.0</td>\n",
       "      <td>1.70439</td>\n",
       "      <td>1.50598</td>\n",
       "      <td>1.82334</td>\n",
       "      <td>0.88</td>\n",
       "      <td>6</td>\n",
       "      <td>9.593832</td>\n",
       "      <td>0.039977</td>\n",
       "      <td>1</td>\n",
       "    </tr>\n",
       "    <tr>\n",
       "      <th>8</th>\n",
       "      <td>19468</td>\n",
       "      <td>almosthomeless</td>\n",
       "      <td>6d5p34</td>\n",
       "      <td>(0, 5)</td>\n",
       "      <td>Long story short my family in NE Ohio is abusi...</td>\n",
       "      <td>1</td>\n",
       "      <td>1.0</td>\n",
       "      <td>1.495666e+09</td>\n",
       "      <td>21</td>\n",
       "      <td>1.068692</td>\n",
       "      <td>...</td>\n",
       "      <td>1.0000</td>\n",
       "      <td>1.0</td>\n",
       "      <td>1.69207</td>\n",
       "      <td>1.62817</td>\n",
       "      <td>1.88011</td>\n",
       "      <td>0.81</td>\n",
       "      <td>30</td>\n",
       "      <td>3.251153</td>\n",
       "      <td>0.082407</td>\n",
       "      <td>1</td>\n",
       "    </tr>\n",
       "    <tr>\n",
       "      <th>9</th>\n",
       "      <td>48595</td>\n",
       "      <td>domesticviolence</td>\n",
       "      <td>83d7jt</td>\n",
       "      <td>(5, 10)</td>\n",
       "      <td>This new \"roommate\" lived 3 hours away in an p...</td>\n",
       "      <td>0</td>\n",
       "      <td>0.6</td>\n",
       "      <td>1.520659e+09</td>\n",
       "      <td>7</td>\n",
       "      <td>5.789629</td>\n",
       "      <td>...</td>\n",
       "      <td>1.0000</td>\n",
       "      <td>1.0</td>\n",
       "      <td>1.70685</td>\n",
       "      <td>1.73571</td>\n",
       "      <td>1.88339</td>\n",
       "      <td>1.00</td>\n",
       "      <td>7</td>\n",
       "      <td>5.975440</td>\n",
       "      <td>0.258965</td>\n",
       "      <td>1</td>\n",
       "    </tr>\n",
       "    <tr>\n",
       "      <th>10</th>\n",
       "      <td>1039</td>\n",
       "      <td>survivorsofabuse</td>\n",
       "      <td>7fvr4o</td>\n",
       "      <td>[30, 35]</td>\n",
       "      <td>I've always hated nail files. Somehow that's a...</td>\n",
       "      <td>1</td>\n",
       "      <td>0.5</td>\n",
       "      <td>1.511795e+09</td>\n",
       "      <td>10</td>\n",
       "      <td>-0.356250</td>\n",
       "      <td>...</td>\n",
       "      <td>1.3333</td>\n",
       "      <td>1.0</td>\n",
       "      <td>1.70079</td>\n",
       "      <td>1.42581</td>\n",
       "      <td>1.92775</td>\n",
       "      <td>1.00</td>\n",
       "      <td>2</td>\n",
       "      <td>2.280000</td>\n",
       "      <td>-0.366667</td>\n",
       "      <td>1</td>\n",
       "    </tr>\n",
       "    <tr>\n",
       "      <th>11</th>\n",
       "      <td>588</td>\n",
       "      <td>ptsd</td>\n",
       "      <td>8o7ecd</td>\n",
       "      <td>[0, 5]</td>\n",
       "      <td>Yesterday afternoon, two black males attacked ...</td>\n",
       "      <td>1</td>\n",
       "      <td>0.6</td>\n",
       "      <td>1.528017e+09</td>\n",
       "      <td>6</td>\n",
       "      <td>5.835128</td>\n",
       "      <td>...</td>\n",
       "      <td>1.0000</td>\n",
       "      <td>1.0</td>\n",
       "      <td>1.75567</td>\n",
       "      <td>1.58167</td>\n",
       "      <td>1.88644</td>\n",
       "      <td>0.68</td>\n",
       "      <td>23</td>\n",
       "      <td>5.995641</td>\n",
       "      <td>0.035080</td>\n",
       "      <td>1</td>\n",
       "    </tr>\n",
       "    <tr>\n",
       "      <th>12</th>\n",
       "      <td>53256</td>\n",
       "      <td>ptsd</td>\n",
       "      <td>7vhnbx</td>\n",
       "      <td>(2, 7)</td>\n",
       "      <td>PTSD is life changing for the worse. Every day...</td>\n",
       "      <td>1</td>\n",
       "      <td>1.0</td>\n",
       "      <td>1.517862e+09</td>\n",
       "      <td>28</td>\n",
       "      <td>3.551558</td>\n",
       "      <td>...</td>\n",
       "      <td>1.1429</td>\n",
       "      <td>1.0</td>\n",
       "      <td>1.83167</td>\n",
       "      <td>1.61852</td>\n",
       "      <td>1.81584</td>\n",
       "      <td>0.91</td>\n",
       "      <td>8</td>\n",
       "      <td>3.284113</td>\n",
       "      <td>-0.110000</td>\n",
       "      <td>1</td>\n",
       "    </tr>\n",
       "    <tr>\n",
       "      <th>13</th>\n",
       "      <td>39650</td>\n",
       "      <td>domesticviolence</td>\n",
       "      <td>5q0sh9</td>\n",
       "      <td>(0, 5)</td>\n",
       "      <td>He’s abused my dog in the past and I’ve no dou...</td>\n",
       "      <td>1</td>\n",
       "      <td>1.0</td>\n",
       "      <td>1.485313e+09</td>\n",
       "      <td>3</td>\n",
       "      <td>3.188972</td>\n",
       "      <td>...</td>\n",
       "      <td>1.1429</td>\n",
       "      <td>1.0</td>\n",
       "      <td>1.72550</td>\n",
       "      <td>1.59747</td>\n",
       "      <td>1.90621</td>\n",
       "      <td>1.00</td>\n",
       "      <td>8</td>\n",
       "      <td>5.332766</td>\n",
       "      <td>0.015455</td>\n",
       "      <td>1</td>\n",
       "    </tr>\n",
       "    <tr>\n",
       "      <th>14</th>\n",
       "      <td>414</td>\n",
       "      <td>domesticviolence</td>\n",
       "      <td>9y3go5</td>\n",
       "      <td>[5, 10]</td>\n",
       "      <td>the only thing I ever want is just to be in hi...</td>\n",
       "      <td>1</td>\n",
       "      <td>1.0</td>\n",
       "      <td>1.542518e+09</td>\n",
       "      <td>5</td>\n",
       "      <td>-1.347516</td>\n",
       "      <td>...</td>\n",
       "      <td>1.1818</td>\n",
       "      <td>1.0</td>\n",
       "      <td>1.65076</td>\n",
       "      <td>1.67636</td>\n",
       "      <td>1.93413</td>\n",
       "      <td>0.86</td>\n",
       "      <td>8</td>\n",
       "      <td>2.448489</td>\n",
       "      <td>-0.054082</td>\n",
       "      <td>1</td>\n",
       "    </tr>\n",
       "    <tr>\n",
       "      <th>15</th>\n",
       "      <td>1824</td>\n",
       "      <td>relationships</td>\n",
       "      <td>7rc73v</td>\n",
       "      <td>[20, 25]</td>\n",
       "      <td>Despite being younger than him, I have had mor...</td>\n",
       "      <td>0</td>\n",
       "      <td>0.8</td>\n",
       "      <td>1.516304e+09</td>\n",
       "      <td>5</td>\n",
       "      <td>1.762857</td>\n",
       "      <td>...</td>\n",
       "      <td>1.0000</td>\n",
       "      <td>1.0</td>\n",
       "      <td>1.71926</td>\n",
       "      <td>1.53784</td>\n",
       "      <td>2.00065</td>\n",
       "      <td>0.78</td>\n",
       "      <td>1</td>\n",
       "      <td>3.676429</td>\n",
       "      <td>0.162963</td>\n",
       "      <td>1</td>\n",
       "    </tr>\n",
       "    <tr>\n",
       "      <th>16</th>\n",
       "      <td>813</td>\n",
       "      <td>domesticviolence</td>\n",
       "      <td>8uv4cw</td>\n",
       "      <td>[5, 10]</td>\n",
       "      <td>I go from living happily, almost as if that pa...</td>\n",
       "      <td>1</td>\n",
       "      <td>1.0</td>\n",
       "      <td>1.530294e+09</td>\n",
       "      <td>7</td>\n",
       "      <td>5.251573</td>\n",
       "      <td>...</td>\n",
       "      <td>1.1250</td>\n",
       "      <td>1.0</td>\n",
       "      <td>1.74410</td>\n",
       "      <td>1.48537</td>\n",
       "      <td>1.88472</td>\n",
       "      <td>0.89</td>\n",
       "      <td>4</td>\n",
       "      <td>5.538517</td>\n",
       "      <td>0.169762</td>\n",
       "      <td>1</td>\n",
       "    </tr>\n",
       "    <tr>\n",
       "      <th>17</th>\n",
       "      <td>745</td>\n",
       "      <td>anxiety</td>\n",
       "      <td>6f4swf</td>\n",
       "      <td>[0, 5]</td>\n",
       "      <td>I have a lot of self esteem. I value myself, I...</td>\n",
       "      <td>1</td>\n",
       "      <td>0.6</td>\n",
       "      <td>1.496540e+09</td>\n",
       "      <td>3</td>\n",
       "      <td>2.672381</td>\n",
       "      <td>...</td>\n",
       "      <td>1.2857</td>\n",
       "      <td>1.0</td>\n",
       "      <td>1.80350</td>\n",
       "      <td>1.48169</td>\n",
       "      <td>1.99342</td>\n",
       "      <td>0.81</td>\n",
       "      <td>2</td>\n",
       "      <td>4.073474</td>\n",
       "      <td>0.335714</td>\n",
       "      <td>1</td>\n",
       "    </tr>\n",
       "    <tr>\n",
       "      <th>18</th>\n",
       "      <td>895</td>\n",
       "      <td>anxiety</td>\n",
       "      <td>6f4swf</td>\n",
       "      <td>[10, 15]</td>\n",
       "      <td>If I go to an interview for example, I'll know...</td>\n",
       "      <td>0</td>\n",
       "      <td>0.6</td>\n",
       "      <td>1.496540e+09</td>\n",
       "      <td>3</td>\n",
       "      <td>5.697385</td>\n",
       "      <td>...</td>\n",
       "      <td>1.0000</td>\n",
       "      <td>1.0</td>\n",
       "      <td>1.70351</td>\n",
       "      <td>1.40571</td>\n",
       "      <td>1.87888</td>\n",
       "      <td>0.81</td>\n",
       "      <td>2</td>\n",
       "      <td>6.925023</td>\n",
       "      <td>0.189815</td>\n",
       "      <td>1</td>\n",
       "    </tr>\n",
       "    <tr>\n",
       "      <th>19</th>\n",
       "      <td>1361</td>\n",
       "      <td>anxiety</td>\n",
       "      <td>8dllx7</td>\n",
       "      <td>[25, 30]</td>\n",
       "      <td>Like sleep would never be a simple thing for m...</td>\n",
       "      <td>0</td>\n",
       "      <td>0.0</td>\n",
       "      <td>1.524207e+09</td>\n",
       "      <td>3</td>\n",
       "      <td>1.634064</td>\n",
       "      <td>...</td>\n",
       "      <td>1.3333</td>\n",
       "      <td>1.0</td>\n",
       "      <td>1.77426</td>\n",
       "      <td>1.49615</td>\n",
       "      <td>1.99557</td>\n",
       "      <td>1.00</td>\n",
       "      <td>0</td>\n",
       "      <td>4.120739</td>\n",
       "      <td>0.150000</td>\n",
       "      <td>1</td>\n",
       "    </tr>\n",
       "  </tbody>\n",
       "</table>\n",
       "<p>20 rows × 117 columns</p>\n",
       "</div>"
      ],
      "text/plain": [
       "       id         subreddit post_id sentence_range  \\\n",
       "0     896     relationships  7nu7as       [50, 55]   \n",
       "1   19059           anxiety  680i6d        (5, 10)   \n",
       "2    7977              ptsd  8eeu1t        (5, 10)   \n",
       "3    1214              ptsd  8d28vu         [2, 7]   \n",
       "4    1965     relationships  7r1e85       [23, 28]   \n",
       "5     850        assistance  7py440       [10, 15]   \n",
       "6    1643          homeless  9e8zyg       [10, 15]   \n",
       "7   39090           anxiety  71ma4y         (0, 5)   \n",
       "8   19468    almosthomeless  6d5p34         (0, 5)   \n",
       "9   48595  domesticviolence  83d7jt        (5, 10)   \n",
       "10   1039  survivorsofabuse  7fvr4o       [30, 35]   \n",
       "11    588              ptsd  8o7ecd         [0, 5]   \n",
       "12  53256              ptsd  7vhnbx         (2, 7)   \n",
       "13  39650  domesticviolence  5q0sh9         (0, 5)   \n",
       "14    414  domesticviolence  9y3go5        [5, 10]   \n",
       "15   1824     relationships  7rc73v       [20, 25]   \n",
       "16    813  domesticviolence  8uv4cw        [5, 10]   \n",
       "17    745           anxiety  6f4swf         [0, 5]   \n",
       "18    895           anxiety  6f4swf       [10, 15]   \n",
       "19   1361           anxiety  8dllx7       [25, 30]   \n",
       "\n",
       "                                                 text  label  confidence  \\\n",
       "0   Its like that, if you want or not.“ ME: I have...      0         0.8   \n",
       "1   I man the front desk and my title is HR Custom...      0         1.0   \n",
       "2   We'd be saving so much money with this new hou...      1         1.0   \n",
       "3   My ex used to shoot back with \"Do you want me ...      1         0.5   \n",
       "4   I haven’t said anything to him yet because I’m...      0         0.8   \n",
       "5   Thanks. Edit 1 - Fuel Receipt As Requested. <u...      0         1.0   \n",
       "6   When moving into their tiny house, they would ...      0         0.0   \n",
       "7   More specifically, for example, I live with ro...      1         0.8   \n",
       "8   Long story short my family in NE Ohio is abusi...      1         1.0   \n",
       "9   This new \"roommate\" lived 3 hours away in an p...      0         0.6   \n",
       "10  I've always hated nail files. Somehow that's a...      1         0.5   \n",
       "11  Yesterday afternoon, two black males attacked ...      1         0.6   \n",
       "12  PTSD is life changing for the worse. Every day...      1         1.0   \n",
       "13  He’s abused my dog in the past and I’ve no dou...      1         1.0   \n",
       "14  the only thing I ever want is just to be in hi...      1         1.0   \n",
       "15  Despite being younger than him, I have had mor...      0         0.8   \n",
       "16  I go from living happily, almost as if that pa...      1         1.0   \n",
       "17  I have a lot of self esteem. I value myself, I...      1         0.6   \n",
       "18  If I go to an interview for example, I'll know...      0         0.6   \n",
       "19  Like sleep would never be a simple thing for m...      0         0.0   \n",
       "\n",
       "    social_timestamp  social_karma  syntax_ari  ...  lex_dal_min_activation  \\\n",
       "0       1.514981e+09            22   -1.238793  ...                  1.2000   \n",
       "1       1.493348e+09             5    7.684583  ...                  1.1250   \n",
       "2       1.524517e+09            10    2.360408  ...                  1.0000   \n",
       "3       1.524018e+09             5    5.997000  ...                  1.3000   \n",
       "4       1.516200e+09           138    4.649418  ...                  1.1429   \n",
       "5       1.515778e+09             7    0.910714  ...                  1.0000   \n",
       "6       1.536453e+09            14   15.815576  ...                  1.0000   \n",
       "7       1.506028e+09             6   10.029951  ...                  1.1429   \n",
       "8       1.495666e+09            21    1.068692  ...                  1.0000   \n",
       "9       1.520659e+09             7    5.789629  ...                  1.0000   \n",
       "10      1.511795e+09            10   -0.356250  ...                  1.3333   \n",
       "11      1.528017e+09             6    5.835128  ...                  1.0000   \n",
       "12      1.517862e+09            28    3.551558  ...                  1.1429   \n",
       "13      1.485313e+09             3    3.188972  ...                  1.1429   \n",
       "14      1.542518e+09             5   -1.347516  ...                  1.1818   \n",
       "15      1.516304e+09             5    1.762857  ...                  1.0000   \n",
       "16      1.530294e+09             7    5.251573  ...                  1.1250   \n",
       "17      1.496540e+09             3    2.672381  ...                  1.2857   \n",
       "18      1.496540e+09             3    5.697385  ...                  1.0000   \n",
       "19      1.524207e+09             3    1.634064  ...                  1.3333   \n",
       "\n",
       "    lex_dal_min_imagery  lex_dal_avg_activation  lex_dal_avg_imagery  \\\n",
       "0                   1.0                 1.65864              1.32245   \n",
       "1                   1.0                 1.69133              1.69180   \n",
       "2                   1.0                 1.70974              1.52985   \n",
       "3                   1.0                 1.72615              1.52000   \n",
       "4                   1.0                 1.75642              1.43582   \n",
       "5                   1.0                 1.70441              1.56364   \n",
       "6                   1.0                 1.59863              1.41860   \n",
       "7                   1.0                 1.70439              1.50598   \n",
       "8                   1.0                 1.69207              1.62817   \n",
       "9                   1.0                 1.70685              1.73571   \n",
       "10                  1.0                 1.70079              1.42581   \n",
       "11                  1.0                 1.75567              1.58167   \n",
       "12                  1.0                 1.83167              1.61852   \n",
       "13                  1.0                 1.72550              1.59747   \n",
       "14                  1.0                 1.65076              1.67636   \n",
       "15                  1.0                 1.71926              1.53784   \n",
       "16                  1.0                 1.74410              1.48537   \n",
       "17                  1.0                 1.80350              1.48169   \n",
       "18                  1.0                 1.70351              1.40571   \n",
       "19                  1.0                 1.77426              1.49615   \n",
       "\n",
       "    lex_dal_avg_pleasantness  social_upvote_ratio  social_num_comments  \\\n",
       "0                    1.80264                 0.63                   62   \n",
       "1                    1.97249                 1.00                    2   \n",
       "2                    1.86108                 1.00                    8   \n",
       "3                    1.84909                 1.00                    7   \n",
       "4                    1.91725                 0.84                   70   \n",
       "5                    1.76971                 0.70                   16   \n",
       "6                    1.82149                 0.82                   15   \n",
       "7                    1.82334                 0.88                    6   \n",
       "8                    1.88011                 0.81                   30   \n",
       "9                    1.88339                 1.00                    7   \n",
       "10                   1.92775                 1.00                    2   \n",
       "11                   1.88644                 0.68                   23   \n",
       "12                   1.81584                 0.91                    8   \n",
       "13                   1.90621                 1.00                    8   \n",
       "14                   1.93413                 0.86                    8   \n",
       "15                   2.00065                 0.78                    1   \n",
       "16                   1.88472                 0.89                    4   \n",
       "17                   1.99342                 0.81                    2   \n",
       "18                   1.87888                 0.81                    2   \n",
       "19                   1.99557                 1.00                    0   \n",
       "\n",
       "    syntax_fk_grade  sentiment  prediction  \n",
       "0         -0.148707   0.000000           1  \n",
       "1          7.398222  -0.065909           1  \n",
       "2          3.149288  -0.036818           1  \n",
       "3          6.606000  -0.066667           1  \n",
       "4          4.801869   0.141667           1  \n",
       "5          3.289524  -0.275000           1  \n",
       "6         13.097570   0.000000           1  \n",
       "7          9.593832   0.039977           1  \n",
       "8          3.251153   0.082407           1  \n",
       "9          5.975440   0.258965           1  \n",
       "10         2.280000  -0.366667           1  \n",
       "11         5.995641   0.035080           1  \n",
       "12         3.284113  -0.110000           1  \n",
       "13         5.332766   0.015455           1  \n",
       "14         2.448489  -0.054082           1  \n",
       "15         3.676429   0.162963           1  \n",
       "16         5.538517   0.169762           1  \n",
       "17         4.073474   0.335714           1  \n",
       "18         6.925023   0.189815           1  \n",
       "19         4.120739   0.150000           1  \n",
       "\n",
       "[20 rows x 117 columns]"
      ]
     },
     "execution_count": 19,
     "metadata": {},
     "output_type": "execute_result"
    }
   ],
   "source": [
    "sample_submission.head(20)"
   ]
  },
  {
   "cell_type": "code",
   "execution_count": 20,
   "id": "fdd03cba",
   "metadata": {},
   "outputs": [],
   "source": [
    "sample_submission.to_csv(\"dreaddit/submission.csv\", index=False)"
   ]
  },
  {
   "cell_type": "code",
   "execution_count": 24,
   "id": "4b9045c8",
   "metadata": {},
   "outputs": [
    {
     "name": "stdout",
     "output_type": "stream",
     "text": [
      "Classification Report:\n",
      "              precision    recall  f1-score   support\n",
      "\n",
      "     control       0.00      0.00      0.00       346\n",
      "   Depressed       0.52      1.00      0.68       369\n",
      "\n",
      "    accuracy                           0.52       715\n",
      "   macro avg       0.26      0.50      0.34       715\n",
      "weighted avg       0.27      0.52      0.35       715\n",
      "\n"
     ]
    },
    {
     "name": "stderr",
     "output_type": "stream",
     "text": [
      "/home/irteam/anaconda3/envs/depression/lib/python3.9/site-packages/sklearn/metrics/_classification.py:1344: UndefinedMetricWarning: Precision and F-score are ill-defined and being set to 0.0 in labels with no predicted samples. Use `zero_division` parameter to control this behavior.\n",
      "  _warn_prf(average, modifier, msg_start, len(result))\n",
      "/home/irteam/anaconda3/envs/depression/lib/python3.9/site-packages/sklearn/metrics/_classification.py:1344: UndefinedMetricWarning: Precision and F-score are ill-defined and being set to 0.0 in labels with no predicted samples. Use `zero_division` parameter to control this behavior.\n",
      "  _warn_prf(average, modifier, msg_start, len(result))\n",
      "/home/irteam/anaconda3/envs/depression/lib/python3.9/site-packages/sklearn/metrics/_classification.py:1344: UndefinedMetricWarning: Precision and F-score are ill-defined and being set to 0.0 in labels with no predicted samples. Use `zero_division` parameter to control this behavior.\n",
      "  _warn_prf(average, modifier, msg_start, len(result))\n"
     ]
    }
   ],
   "source": [
    "from sklearn.metrics import accuracy_score, precision_score, recall_score, f1_score, classification_report, confusion_matrix\n",
    "# Print classification report\n",
    "class_names = ['control','Depressed']\n",
    "classification_rep = classification_report(sample_submission['label'],sample_submission['prediction'], target_names=class_names)\n",
    "print(\"Classification Report:\")\n",
    "print(classification_rep)\n"
   ]
  },
  {
   "cell_type": "code",
   "execution_count": 25,
   "id": "7b881aad",
   "metadata": {},
   "outputs": [
    {
     "data": {
      "image/png": "[encoded data removed]",
      "text/plain": [
       "<Figure size 800x600 with 2 Axes>"
      ]
     },
     "metadata": {},
     "output_type": "display_data"
    }
   ],
   "source": [
    "# Compute confusion matrix\n",
    "cm = confusion_matrix(sample_submission['label'],sample_submission['prediction'])\n",
    "\n",
    "# Plot confusion matrix\n",
    "plt.figure(figsize=(8, 6))\n",
    "plt.imshow(cm, interpolation='nearest', cmap=plt.cm.Blues)\n",
    "plt.title('Confusion Matrix')\n",
    "plt.colorbar()\n",
    "\n",
    "tick_marks = np.arange(len(class_names))\n",
    "plt.xticks(tick_marks, class_names, rotation=45)\n",
    "plt.yticks(tick_marks, class_names)\n",
    "\n",
    "# Add count values to the plot\n",
    "thresh = cm.max() / 2.0  # Threshold for color change\n",
    "for i in range(cm.shape[0]):\n",
    "    for j in range(cm.shape[1]):\n",
    "        plt.text(j, i, format(cm[i, j], 'd'),\n",
    "                 horizontalalignment=\"center\",\n",
    "                 color=\"white\" if cm[i, j] > thresh else \"black\")\n",
    "\n",
    "plt.xlabel('Predicted Label')\n",
    "plt.ylabel('True Label')\n",
    "plt.tight_layout()\n",
    "plt.show()\n"
   ]
  },
  {
   "cell_type": "code",
   "execution_count": 23,
   "id": "1627ca05",
   "metadata": {},
   "outputs": [],
   "source": [
    "subjects=np.unique(np.array(sample_submission['ID']))"
   ]
  },
  {
   "cell_type": "code",
   "execution_count": 24,
   "id": "8faed9d7",
   "metadata": {},
   "outputs": [
    {
     "data": {
      "text/html": [
       "<div>\n",
       "<style scoped>\n",
       "    .dataframe tbody tr th:only-of-type {\n",
       "        vertical-align: middle;\n",
       "    }\n",
       "\n",
       "    .dataframe tbody tr th {\n",
       "        vertical-align: top;\n",
       "    }\n",
       "\n",
       "    .dataframe thead th {\n",
       "        text-align: right;\n",
       "    }\n",
       "</style>\n",
       "<table border=\"1\" class=\"dataframe\">\n",
       "  <thead>\n",
       "    <tr style=\"text-align: right;\">\n",
       "      <th></th>\n",
       "      <th>Unnamed: 0</th>\n",
       "      <th>ID</th>\n",
       "      <th>Text</th>\n",
       "      <th>Label</th>\n",
       "      <th>prediction</th>\n",
       "    </tr>\n",
       "  </thead>\n",
       "  <tbody>\n",
       "    <tr>\n",
       "      <th>0</th>\n",
       "      <td>0</td>\n",
       "      <td>test_subject1005</td>\n",
       "      <td>\"Kill Bill Siren\" was awesome. These seriousl...</td>\n",
       "      <td>0</td>\n",
       "      <td>0</td>\n",
       "    </tr>\n",
       "    <tr>\n",
       "      <th>1</th>\n",
       "      <td>1</td>\n",
       "      <td>test_subject1005</td>\n",
       "      <td>crazy bastard</td>\n",
       "      <td>0</td>\n",
       "      <td>0</td>\n",
       "    </tr>\n",
       "    <tr>\n",
       "      <th>2</th>\n",
       "      <td>2</td>\n",
       "      <td>test_subject1005</td>\n",
       "      <td>What I hoped for this post: something other t...</td>\n",
       "      <td>0</td>\n",
       "      <td>0</td>\n",
       "    </tr>\n",
       "    <tr>\n",
       "      <th>3</th>\n",
       "      <td>3</td>\n",
       "      <td>test_subject1005</td>\n",
       "      <td>I didn't find this scene funny, but the fact ...</td>\n",
       "      <td>0</td>\n",
       "      <td>0</td>\n",
       "    </tr>\n",
       "    <tr>\n",
       "      <th>4</th>\n",
       "      <td>4</td>\n",
       "      <td>test_subject1005</td>\n",
       "      <td>Bill from Kill Bill. Not saying the five poin...</td>\n",
       "      <td>0</td>\n",
       "      <td>0</td>\n",
       "    </tr>\n",
       "    <tr>\n",
       "      <th>...</th>\n",
       "      <td>...</td>\n",
       "      <td>...</td>\n",
       "      <td>...</td>\n",
       "      <td>...</td>\n",
       "      <td>...</td>\n",
       "    </tr>\n",
       "    <tr>\n",
       "      <th>211205</th>\n",
       "      <td>211205</td>\n",
       "      <td>test_subject1005</td>\n",
       "      <td>I always get misty at that scene. Specificall...</td>\n",
       "      <td>0</td>\n",
       "      <td>0</td>\n",
       "    </tr>\n",
       "    <tr>\n",
       "      <th>211206</th>\n",
       "      <td>211206</td>\n",
       "      <td>test_subject1005</td>\n",
       "      <td>John Ritter. He was even the \"model\" father i...</td>\n",
       "      <td>0</td>\n",
       "      <td>0</td>\n",
       "    </tr>\n",
       "    <tr>\n",
       "      <th>211207</th>\n",
       "      <td>211207</td>\n",
       "      <td>test_subject1005</td>\n",
       "      <td>I like to have WSOP on while doing online tou...</td>\n",
       "      <td>0</td>\n",
       "      <td>0</td>\n",
       "    </tr>\n",
       "    <tr>\n",
       "      <th>211208</th>\n",
       "      <td>211208</td>\n",
       "      <td>test_subject1005</td>\n",
       "      <td>What are the bigger topics or decisions that p...</td>\n",
       "      <td>0</td>\n",
       "      <td>0</td>\n",
       "    </tr>\n",
       "    <tr>\n",
       "      <th>211209</th>\n",
       "      <td>211209</td>\n",
       "      <td>test_subject1005</td>\n",
       "      <td>Idk why everyone just got downvoted. You lite...</td>\n",
       "      <td>0</td>\n",
       "      <td>0</td>\n",
       "    </tr>\n",
       "  </tbody>\n",
       "</table>\n",
       "<p>295 rows × 5 columns</p>\n",
       "</div>"
      ],
      "text/plain": [
       "        Unnamed: 0                ID  \\\n",
       "0                0  test_subject1005   \n",
       "1                1  test_subject1005   \n",
       "2                2  test_subject1005   \n",
       "3                3  test_subject1005   \n",
       "4                4  test_subject1005   \n",
       "...            ...               ...   \n",
       "211205      211205  test_subject1005   \n",
       "211206      211206  test_subject1005   \n",
       "211207      211207  test_subject1005   \n",
       "211208      211208  test_subject1005   \n",
       "211209      211209  test_subject1005   \n",
       "\n",
       "                                                     Text  Label  prediction  \n",
       "0        \"Kill Bill Siren\" was awesome. These seriousl...      0           0  \n",
       "1                                           crazy bastard      0           0  \n",
       "2        What I hoped for this post: something other t...      0           0  \n",
       "3        I didn't find this scene funny, but the fact ...      0           0  \n",
       "4        Bill from Kill Bill. Not saying the five poin...      0           0  \n",
       "...                                                   ...    ...         ...  \n",
       "211205   I always get misty at that scene. Specificall...      0           0  \n",
       "211206   John Ritter. He was even the \"model\" father i...      0           0  \n",
       "211207   I like to have WSOP on while doing online tou...      0           0  \n",
       "211208  What are the bigger topics or decisions that p...      0           0  \n",
       "211209   Idk why everyone just got downvoted. You lite...      0           0  \n",
       "\n",
       "[295 rows x 5 columns]"
      ]
     },
     "execution_count": 24,
     "metadata": {},
     "output_type": "execute_result"
    }
   ],
   "source": [
    "df_e1= sample_submission[sample_submission['ID']==subjects[0]]\n",
    "df_e1"
   ]
  },
  {
   "cell_type": "code",
   "execution_count": 21,
   "id": "c61f694c",
   "metadata": {},
   "outputs": [
    {
     "name": "stdout",
     "output_type": "stream",
     "text": [
      "715\n",
      "1: 715\n"
     ]
    }
   ],
   "source": [
    "arr = np.array(sample_submission['prediction'])\n",
    "print(len(arr))\n",
    "\n",
    "# Get unique values and their counts\n",
    "unique_values, counts = np.unique(arr, return_counts=True)\n",
    "\n",
    "# Print unique values and counts\n",
    "for value, count in zip(unique_values, counts):\n",
    "    print(f\"{value}: {count}\")"
   ]
  },
  {
   "cell_type": "code",
   "execution_count": 22,
   "id": "e6de6142",
   "metadata": {},
   "outputs": [
    {
     "name": "stdout",
     "output_type": "stream",
     "text": [
      "715\n",
      "0: 346\n",
      "1: 369\n"
     ]
    }
   ],
   "source": [
    "arr = np.array(sample_submission['label'])\n",
    "print(len(arr))\n",
    "\n",
    "# Get unique values and their counts\n",
    "unique_values, counts = np.unique(arr, return_counts=True)\n",
    "\n",
    "# Print unique values and counts\n",
    "for value, count in zip(unique_values, counts):\n",
    "    print(f\"{value}: {count}\")"
   ]
  },
  {
   "cell_type": "code",
   "execution_count": null,
   "id": "acfcafe2",
   "metadata": {},
   "outputs": [],
   "source": [
    "arr = np.array(sample_submission['prediction'])\n",
    "print(len(arr))"
   ]
  }
 ],
 "metadata": {
  "kernelspec": {
   "display_name": "depression",
   "language": "python",
   "name": "depression"
  },
  "language_info": {
   "codemirror_mode": {
    "name": "ipython",
    "version": 3
   },
   "file_extension": ".py",
   "mimetype": "text/x-python",
   "name": "python",
   "nbconvert_exporter": "python",
   "pygments_lexer": "ipython3",
   "version": "3.9.16"
  }
 },
 "nbformat": 4,
 "nbformat_minor": 5
}
