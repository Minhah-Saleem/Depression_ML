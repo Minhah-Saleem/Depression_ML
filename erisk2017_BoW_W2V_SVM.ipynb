{
 "cells": [
  {
   "cell_type": "code",
   "execution_count": 1,
   "id": "f847c768",
   "metadata": {},
   "outputs": [],
   "source": [
    "#load data\n",
    "import os\n",
    "mypath=\"C:/Users/USER/eRisk2017/2017/\"\n",
    "os.chdir( mypath )"
   ]
  },
  {
   "cell_type": "code",
   "execution_count": 2,
   "id": "6c8a307a",
   "metadata": {},
   "outputs": [],
   "source": [
    "import pandas as pd\n",
    "import numpy as np\n",
    "\n",
    "train_df=pd.read_csv('train_Depression_all_chunks_nosteem.csv')\n",
    "train_df=train_df.replace(np.nan, '', regex=True)\n",
    "test_df=pd.read_csv('test_Depression_all_chunks_nosteem.csv')\n",
    "test_df=test_df.replace(np.nan, '', regex=True)"
   ]
  },
  {
   "cell_type": "code",
   "execution_count": 3,
   "id": "5b1a5eeb",
   "metadata": {},
   "outputs": [],
   "source": [
    "def generate_data(df, nchunks=1):\n",
    "    # Extract the first chunk of data\n",
    "    data = df['Chunk_1']\n",
    "    \n",
    "    # Rename the column to 'x' (although this line has no effect as it doesn't modify the original DataFrame)\n",
    "#     data.rename(columns={'Chunk_1': 'x'})\n",
    "    \n",
    "    # If nchunks is less than or equal to 1, do nothing\n",
    "    if nchunks <= 1:\n",
    "        pass\n",
    "    else:\n",
    "        # Iterate over the remaining chunks and concatenate them with the first chunk\n",
    "        for i in range(2, nchunks):\n",
    "            chunk = 'Chunk_' + str(i)\n",
    "            data += df[chunk]\n",
    "    \n",
    "    # Return the values of the concatenated data\n",
    "    return data.values"
   ]
  },
  {
   "cell_type": "code",
   "execution_count": 4,
   "id": "bccda522",
   "metadata": {},
   "outputs": [],
   "source": [
    "#SVM_BOW\n",
    "from sklearn.feature_extraction.text import CountVectorizer\n",
    "from sklearn.svm import LinearSVC\n",
    "from sklearn import metrics\n",
    "import matplotlib.pyplot as plt\n",
    "%matplotlib inline\n",
    "import time"
   ]
  },
  {
   "cell_type": "code",
   "execution_count": 5,
   "id": "803714d6",
   "metadata": {},
   "outputs": [],
   "source": [
    "def svm_bow(train, test, nChunks=1):\n",
    "\n",
    "  # Generate data\n",
    "  x_train = generate_data(train, nChunks)\n",
    "  y_train = train['Depress'].values\n",
    "  x_test = generate_data(test, nChunks)\n",
    "  y_test = test['Depress'].values\n",
    " \n",
    "  # Initialize classifier\n",
    "  vectorizer = CountVectorizer(max_features=1000)\n",
    "  clf = LinearSVC(tol=1e-5, C=1.0, class_weight='balanced', dual=True, fit_intercept=True,\n",
    "         intercept_scaling=1, loss='squared_hinge', max_iter=1000,\n",
    "         multi_class='ovr', penalty='l2', random_state=1013, verbose=2)\n",
    "  \n",
    "  # Create bag of words\n",
    "  X_train = vectorizer.fit_transform(x_train)\n",
    "  X_test = vectorizer.transform(x_test)\n",
    "\n",
    "  # Train the classifier\n",
    "  clf.fit(X_train, y_train)\n",
    "\n",
    "  # Predict on test data\n",
    "  pred_test = clf.predict(X_test)\n",
    "\n",
    "  # Calculate metrics\n",
    "  accuracy = metrics.accuracy_score(y_test, pred_test)\n",
    "  f1_score_weighted = metrics.f1_score(y_test, pred_test, average='weighted')\n",
    "  recall_score = metrics.recall_score(y_test, pred_test, average='macro')\n",
    "  \n",
    "  my_metrics = [nChunks, accuracy, f1_score_weighted, recall_score]\n",
    "  \n",
    "  return [round(metric, 4) for metric in my_metrics]\n"
   ]
  },
  {
   "cell_type": "code",
   "execution_count": 6,
   "id": "760aad1a",
   "metadata": {},
   "outputs": [
    {
     "name": "stdout",
     "output_type": "stream",
     "text": [
      "[LibLinear]# Chunks: 1 \t Processing Time (secs): 0.6355056762695312\n",
      "[LibLinear]# Chunks: 2 \t Processing Time (secs): 0.6250452995300293\n",
      "[LibLinear]# Chunks: 3 \t Processing Time (secs): 1.1399586200714111\n",
      "[LibLinear]# Chunks: 4 \t Processing Time (secs): 2.067997932434082\n",
      "[LibLinear]# Chunks: 5 \t Processing Time (secs): 3.4980037212371826\n",
      "[LibLinear]# Chunks: 6 \t Processing Time (secs): 5.212288856506348\n",
      "[LibLinear]# Chunks: 7 \t Processing Time (secs): 7.385998487472534\n",
      "[LibLinear]# Chunks: 8 \t Processing Time (secs): 10.071006774902344\n",
      "[LibLinear]# Chunks: 9 \t Processing Time (secs): 13.23078465461731\n",
      "[LibLinear]# Chunks: 10 \t Processing Time (secs): 16.96524453163147\n"
     ]
    }
   ],
   "source": [
    "bow_svm_metrics = np.zeros(shape=(10, 4))\n",
    "\n",
    "for chunk in range(1, 11):\n",
    "  tic = time.time()\n",
    "  bow_svm_metrics[chunk - 1, :] = svm_bow(train_df, test_df, chunk)\n",
    "  print('# Chunks: {} \\t Processing Time (secs): {}'.format(chunk, time.time() - tic))\n"
   ]
  },
  {
   "cell_type": "code",
   "execution_count": 7,
   "id": "10b91e7b",
   "metadata": {},
   "outputs": [
    {
     "data": {
      "text/html": [
       "<div>\n",
       "<style scoped>\n",
       "    .dataframe tbody tr th:only-of-type {\n",
       "        vertical-align: middle;\n",
       "    }\n",
       "\n",
       "    .dataframe tbody tr th {\n",
       "        vertical-align: top;\n",
       "    }\n",
       "\n",
       "    .dataframe thead th {\n",
       "        text-align: right;\n",
       "    }\n",
       "</style>\n",
       "<table border=\"1\" class=\"dataframe\">\n",
       "  <thead>\n",
       "    <tr style=\"text-align: right;\">\n",
       "      <th></th>\n",
       "      <th>Chunk</th>\n",
       "      <th>Acc</th>\n",
       "      <th>F1Score</th>\n",
       "      <th>Recall</th>\n",
       "    </tr>\n",
       "  </thead>\n",
       "  <tbody>\n",
       "    <tr>\n",
       "      <th>0</th>\n",
       "      <td>1.0</td>\n",
       "      <td>0.7930</td>\n",
       "      <td>0.8038</td>\n",
       "      <td>0.6029</td>\n",
       "    </tr>\n",
       "    <tr>\n",
       "      <th>1</th>\n",
       "      <td>2.0</td>\n",
       "      <td>0.7930</td>\n",
       "      <td>0.8038</td>\n",
       "      <td>0.6029</td>\n",
       "    </tr>\n",
       "    <tr>\n",
       "      <th>2</th>\n",
       "      <td>3.0</td>\n",
       "      <td>0.8105</td>\n",
       "      <td>0.8209</td>\n",
       "      <td>0.6456</td>\n",
       "    </tr>\n",
       "    <tr>\n",
       "      <th>3</th>\n",
       "      <td>4.0</td>\n",
       "      <td>0.8055</td>\n",
       "      <td>0.8150</td>\n",
       "      <td>0.6264</td>\n",
       "    </tr>\n",
       "    <tr>\n",
       "      <th>4</th>\n",
       "      <td>5.0</td>\n",
       "      <td>0.7955</td>\n",
       "      <td>0.8120</td>\n",
       "      <td>0.6534</td>\n",
       "    </tr>\n",
       "    <tr>\n",
       "      <th>5</th>\n",
       "      <td>6.0</td>\n",
       "      <td>0.8155</td>\n",
       "      <td>0.8245</td>\n",
       "      <td>0.6485</td>\n",
       "    </tr>\n",
       "    <tr>\n",
       "      <th>6</th>\n",
       "      <td>7.0</td>\n",
       "      <td>0.8180</td>\n",
       "      <td>0.8274</td>\n",
       "      <td>0.6581</td>\n",
       "    </tr>\n",
       "    <tr>\n",
       "      <th>7</th>\n",
       "      <td>8.0</td>\n",
       "      <td>0.8229</td>\n",
       "      <td>0.8311</td>\n",
       "      <td>0.6610</td>\n",
       "    </tr>\n",
       "    <tr>\n",
       "      <th>8</th>\n",
       "      <td>9.0</td>\n",
       "      <td>0.8180</td>\n",
       "      <td>0.8263</td>\n",
       "      <td>0.6499</td>\n",
       "    </tr>\n",
       "    <tr>\n",
       "      <th>9</th>\n",
       "      <td>10.0</td>\n",
       "      <td>0.8180</td>\n",
       "      <td>0.8252</td>\n",
       "      <td>0.6418</td>\n",
       "    </tr>\n",
       "  </tbody>\n",
       "</table>\n",
       "</div>"
      ],
      "text/plain": [
       "   Chunk     Acc  F1Score  Recall\n",
       "0    1.0  0.7930   0.8038  0.6029\n",
       "1    2.0  0.7930   0.8038  0.6029\n",
       "2    3.0  0.8105   0.8209  0.6456\n",
       "3    4.0  0.8055   0.8150  0.6264\n",
       "4    5.0  0.7955   0.8120  0.6534\n",
       "5    6.0  0.8155   0.8245  0.6485\n",
       "6    7.0  0.8180   0.8274  0.6581\n",
       "7    8.0  0.8229   0.8311  0.6610\n",
       "8    9.0  0.8180   0.8263  0.6499\n",
       "9   10.0  0.8180   0.8252  0.6418"
      ]
     },
     "execution_count": 7,
     "metadata": {},
     "output_type": "execute_result"
    }
   ],
   "source": [
    "BowSVM_metrics=pd.DataFrame(bow_svm_metrics, columns=['Chunk','Acc','F1Score','Recall'])\n",
    "BowSVM_metrics"
   ]
  },
  {
   "cell_type": "code",
   "execution_count": 8,
   "id": "4125b99b",
   "metadata": {},
   "outputs": [
    {
     "data": {
      "text/plain": [
       "<matplotlib.legend.Legend at 0x2182c1179d0>"
      ]
     },
     "execution_count": 8,
     "metadata": {},
     "output_type": "execute_result"
    },
    {
     "data": {
      "image/png": "[encoded data removed]",
      "text/plain": [
       "<Figure size 432x288 with 1 Axes>"
      ]
     },
     "metadata": {},
     "output_type": "display_data"
    }
   ],
   "source": [
    "plt.style.use('seaborn-whitegrid')\n",
    "plt.plot(BowSVM_metrics.Chunk,BowSVM_metrics.Acc, label='Acc')\n",
    "plt.plot(BowSVM_metrics.Chunk,BowSVM_metrics.F1Score,label='F1')\n",
    "plt.plot(BowSVM_metrics.Chunk,BowSVM_metrics.Recall,label='Recall')\n",
    "plt.legend()"
   ]
  },
  {
   "cell_type": "code",
   "execution_count": 9,
   "id": "ad7a56ad",
   "metadata": {},
   "outputs": [],
   "source": [
    "#SVM-Tf-Idf\n",
    "from sklearn.feature_extraction.text import TfidfVectorizer"
   ]
  },
  {
   "cell_type": "code",
   "execution_count": 10,
   "id": "557c976e",
   "metadata": {},
   "outputs": [],
   "source": [
    "def svm_tfidf(train, test, nChunks=1):\n",
    "\n",
    "  # Generate data\n",
    "  x_train = generate_data(train, nChunks)\n",
    "  y_train = train['Depress'].values\n",
    "  x_test = generate_data(test, nChunks)\n",
    "  y_test = test['Depress'].values\n",
    " \n",
    "  # Initialize classifier\n",
    "  vectorizer = TfidfVectorizer(min_df=0.05, max_df=0.95)\n",
    "  clf = LinearSVC(tol=1e-5, C=1.0, class_weight='balanced', dual=True, fit_intercept=True,\n",
    "         intercept_scaling=1, loss='squared_hinge', max_iter=1000,\n",
    "         multi_class='ovr', penalty='l2', random_state=1013, verbose=2)\n",
    "  \n",
    "  # Perform Tf-Idf\n",
    "  X_train = vectorizer.fit_transform(x_train)\n",
    "  X_test = vectorizer.transform(x_test)\n",
    "\n",
    "  # Train the classifier\n",
    "  clf.fit(X_train, y_train)\n",
    "\n",
    "  # Predict on test data\n",
    "  pred_test = clf.predict(X_test)\n",
    "\n",
    "  # Calculate metrics\n",
    "  accuracy = metrics.accuracy_score(y_test, pred_test)\n",
    "  f1_score_weighted = metrics.f1_score(y_test, pred_test, average='weighted')\n",
    "  recall_score = metrics.recall_score(y_test, pred_test, average='macro')\n",
    "  my_metrics = [nChunks, accuracy, f1_score_weighted, recall_score]\n",
    "  \n",
    "  return [round(metric, 4) for metric in my_metrics]\n"
   ]
  },
  {
   "cell_type": "code",
   "execution_count": 11,
   "id": "0ed2b14e",
   "metadata": {},
   "outputs": [
    {
     "name": "stdout",
     "output_type": "stream",
     "text": [
      "[LibLinear]Chunks: 1 \t Processing Time (secs): 16.00859045982361\n",
      "[LibLinear]Chunks: 2 \t Processing Time (secs): 15.672680616378784\n",
      "[LibLinear]Chunks: 3 \t Processing Time (secs): 16.22904086112976\n",
      "[LibLinear]Chunks: 4 \t Processing Time (secs): 16.989007234573364\n",
      "[LibLinear]Chunks: 5 \t Processing Time (secs): 18.00306725502014\n",
      "[LibLinear]Chunks: 6 \t Processing Time (secs): 19.65404748916626\n",
      "[LibLinear]Chunks: 7 \t Processing Time (secs): 21.779617071151733\n",
      "[LibLinear]Chunks: 8 \t Processing Time (secs): 24.06241273880005\n",
      "[LibLinear]Chunks: 9 \t Processing Time (secs): 26.844022274017334\n",
      "[LibLinear]Chunks: 10 \t Processing Time (secs): 29.590008974075317\n"
     ]
    }
   ],
   "source": [
    "tfidf_svm_metrics = np.zeros(shape=(10, 4))\n",
    "\n",
    "for chunk in range(1, 11):\n",
    "  tic = time.time()\n",
    "  tfidf_svm_metrics[chunk - 1, :] = svm_tfidf(train_df, test_df, chunk)\n",
    "  print('Chunks: {} \\t Processing Time (secs): {}'.format(chunk, time.time() - tic))\n"
   ]
  },
  {
   "cell_type": "code",
   "execution_count": 12,
   "id": "3a632017",
   "metadata": {},
   "outputs": [
    {
     "data": {
      "text/html": [
       "<div>\n",
       "<style scoped>\n",
       "    .dataframe tbody tr th:only-of-type {\n",
       "        vertical-align: middle;\n",
       "    }\n",
       "\n",
       "    .dataframe tbody tr th {\n",
       "        vertical-align: top;\n",
       "    }\n",
       "\n",
       "    .dataframe thead th {\n",
       "        text-align: right;\n",
       "    }\n",
       "</style>\n",
       "<table border=\"1\" class=\"dataframe\">\n",
       "  <thead>\n",
       "    <tr style=\"text-align: right;\">\n",
       "      <th></th>\n",
       "      <th>Chunk</th>\n",
       "      <th>Acc</th>\n",
       "      <th>F1Score</th>\n",
       "      <th>Recall</th>\n",
       "    </tr>\n",
       "  </thead>\n",
       "  <tbody>\n",
       "    <tr>\n",
       "      <th>0</th>\n",
       "      <td>1.0</td>\n",
       "      <td>0.8803</td>\n",
       "      <td>0.8748</td>\n",
       "      <td>0.6939</td>\n",
       "    </tr>\n",
       "    <tr>\n",
       "      <th>1</th>\n",
       "      <td>2.0</td>\n",
       "      <td>0.8803</td>\n",
       "      <td>0.8748</td>\n",
       "      <td>0.6939</td>\n",
       "    </tr>\n",
       "    <tr>\n",
       "      <th>2</th>\n",
       "      <td>3.0</td>\n",
       "      <td>0.8803</td>\n",
       "      <td>0.8748</td>\n",
       "      <td>0.6939</td>\n",
       "    </tr>\n",
       "    <tr>\n",
       "      <th>3</th>\n",
       "      <td>4.0</td>\n",
       "      <td>0.8803</td>\n",
       "      <td>0.8748</td>\n",
       "      <td>0.6939</td>\n",
       "    </tr>\n",
       "    <tr>\n",
       "      <th>4</th>\n",
       "      <td>5.0</td>\n",
       "      <td>0.8803</td>\n",
       "      <td>0.8748</td>\n",
       "      <td>0.6939</td>\n",
       "    </tr>\n",
       "    <tr>\n",
       "      <th>5</th>\n",
       "      <td>6.0</td>\n",
       "      <td>0.8803</td>\n",
       "      <td>0.8748</td>\n",
       "      <td>0.6939</td>\n",
       "    </tr>\n",
       "    <tr>\n",
       "      <th>6</th>\n",
       "      <td>7.0</td>\n",
       "      <td>0.8803</td>\n",
       "      <td>0.8748</td>\n",
       "      <td>0.6939</td>\n",
       "    </tr>\n",
       "    <tr>\n",
       "      <th>7</th>\n",
       "      <td>8.0</td>\n",
       "      <td>0.8778</td>\n",
       "      <td>0.8715</td>\n",
       "      <td>0.6843</td>\n",
       "    </tr>\n",
       "    <tr>\n",
       "      <th>8</th>\n",
       "      <td>9.0</td>\n",
       "      <td>0.8778</td>\n",
       "      <td>0.8715</td>\n",
       "      <td>0.6843</td>\n",
       "    </tr>\n",
       "    <tr>\n",
       "      <th>9</th>\n",
       "      <td>10.0</td>\n",
       "      <td>0.8778</td>\n",
       "      <td>0.8715</td>\n",
       "      <td>0.6843</td>\n",
       "    </tr>\n",
       "  </tbody>\n",
       "</table>\n",
       "</div>"
      ],
      "text/plain": [
       "   Chunk     Acc  F1Score  Recall\n",
       "0    1.0  0.8803   0.8748  0.6939\n",
       "1    2.0  0.8803   0.8748  0.6939\n",
       "2    3.0  0.8803   0.8748  0.6939\n",
       "3    4.0  0.8803   0.8748  0.6939\n",
       "4    5.0  0.8803   0.8748  0.6939\n",
       "5    6.0  0.8803   0.8748  0.6939\n",
       "6    7.0  0.8803   0.8748  0.6939\n",
       "7    8.0  0.8778   0.8715  0.6843\n",
       "8    9.0  0.8778   0.8715  0.6843\n",
       "9   10.0  0.8778   0.8715  0.6843"
      ]
     },
     "execution_count": 12,
     "metadata": {},
     "output_type": "execute_result"
    }
   ],
   "source": [
    "Tf_Idf_SVM=pd.DataFrame(tfidf_svm_metrics, columns=['Chunk','Acc','F1Score','Recall'])\n",
    "Tf_Idf_SVM"
   ]
  },
  {
   "cell_type": "code",
   "execution_count": 13,
   "id": "3e838355",
   "metadata": {},
   "outputs": [
    {
     "data": {
      "text/plain": [
       "Text(0, 0.5, 'Rate')"
      ]
     },
     "execution_count": 13,
     "metadata": {},
     "output_type": "execute_result"
    },
    {
     "data": {
      "image/png": "[encoded data removed]",
      "text/plain": [
       "<Figure size 432x288 with 1 Axes>"
      ]
     },
     "metadata": {},
     "output_type": "display_data"
    }
   ],
   "source": [
    "%matplotlib inline\n",
    "import matplotlib.pyplot as plt\n",
    "plt.style.use('seaborn-whitegrid')\n",
    "\n",
    "# multiple line plot\n",
    "plt.plot( 'Chunk', 'Acc', data=Tf_Idf_SVM, marker='o', markerfacecolor='blue' ,color='skyblue', linewidth=2)\n",
    "plt.plot( 'Chunk', 'F1Score', data=Tf_Idf_SVM, marker='o', color='red', linewidth=2)\n",
    "plt.plot( 'Chunk', 'Recall', data=Tf_Idf_SVM, marker='o', color='green', linewidth=2, linestyle='dashed')\n",
    "plt.legend()\n",
    "plt.xlabel(\"Chunks\")\n",
    "plt.ylabel(\"Rate\")"
   ]
  },
  {
   "cell_type": "code",
   "execution_count": 1,
   "id": "a80003a2",
   "metadata": {},
   "outputs": [
    {
     "name": "stderr",
     "output_type": "stream",
     "text": [
      "C:\\Users\\USER\\AppData\\Roaming\\Python\\Python38\\site-packages\\scipy\\__init__.py:146: UserWarning: A NumPy version >=1.16.5 and <1.23.0 is required for this version of SciPy (detected version 1.24.3\n",
      "  warnings.warn(f\"A NumPy version >={np_minversion} and <{np_maxversion}\"\n"
     ]
    }
   ],
   "source": [
    "#W2Vec-SVM (Google Embbeding)\n",
    "from gensim.models import KeyedVectors\n",
    "from gensim.test.utils import datapath"
   ]
  },
  {
   "cell_type": "code",
   "execution_count": null,
   "id": "8c7d3f51",
   "metadata": {},
   "outputs": [],
   "source": [
    "#Download google word2vec pretrained embedding \n",
    "#downloaded from kaggle https://www.kaggle.com/datasets/leadbest/googlenewsvectorsnegative300"
   ]
  },
  {
   "cell_type": "code",
   "execution_count": null,
   "id": "e7f82ace",
   "metadata": {},
   "outputs": [],
   "source": [
    "dirW2VGoogle =  \"C:/Users/USER/archive/GoogleNews-vectors-negative300.bin.gz\"\n",
    "tic = time.time()\n",
    "model_google = KeyedVectors.load_word2vec_format(dirW2VGoogle, binary=True)\n",
    "print('Processing Time (secs): ', time.time() - tic)"
   ]
  },
  {
   "cell_type": "code",
   "execution_count": null,
   "id": "2f390e7a",
   "metadata": {},
   "outputs": [],
   "source": [
    "# obtain representations of google vectors\n",
    "# def w2v_google(word,model=model_google):\n",
    "#     if word not in model.vocab:\n",
    "#         return 300*[0]\n",
    "#     else:\n",
    "#         return model[word]\n",
    "def w2v_google(word, model=model_google, key_to_index=model_google.key_to_index):\n",
    "    if word not in key_to_index:\n",
    "        return 300 * [0]\n",
    "    else:\n",
    "        return model.get_vector(word)\n",
    "# def w2v_google(word, model=model_google, key_to_index=model_google.key_to_index):\n",
    "#     if word not in key_to_index:\n",
    "#         return 300 * [0]\n",
    "#     else:\n",
    "#         return model.get_vector(word)"
   ]
  },
  {
   "cell_type": "code",
   "execution_count": null,
   "id": "ef1a198e",
   "metadata": {},
   "outputs": [],
   "source": [
    "# Given a number, returns its reciprocal. If the number is zero, returns zero.\n",
    "def mydiag(x):\n",
    "    if x==0:\n",
    "        return (0)\n",
    "    else:\n",
    "        return (1/x)"
   ]
  },
  {
   "cell_type": "code",
   "execution_count": null,
   "id": "67ee5316",
   "metadata": {},
   "outputs": [],
   "source": [
    "# import numpy as np\n",
    "# from sklearn.feature_extraction.text import CountVectorizer\n",
    "# from sklearn.svm import LinearSVC\n",
    "# from sklearn import metrics\n",
    "# import time\n",
    "\n",
    "def W2Vg_SVM(train, test, nChunks=1):\n",
    "    # Generate data\n",
    "    x_train = generate_data(train, nChunks)\n",
    "    y_train = train['Depress'].values\n",
    "    x_test = generate_data(test, nChunks)\n",
    "    y_test = test['Depress'].values\n",
    "\n",
    "    # Fit BoW\n",
    "    vectorizer_bow = CountVectorizer(max_features=1000)\n",
    "    BoW = vectorizer_bow.fit_transform(x_train)\n",
    "\n",
    "    # Get vocabulary\n",
    "    vocabulary = vectorizer_bow.vocabulary_\n",
    "\n",
    "    # Container for word representations\n",
    "    # The embedding has dimension 300, so we create a matrix of embeddings\n",
    "    # with dimensions (#nVocab, 300)\n",
    "    weight_google = np.empty((0, 300), float)\n",
    "\n",
    "    # Get word representations (embedding matrix)\n",
    "    for word in vocabulary:\n",
    "        weight_google = np.vstack([weight_google, w2v_google(word)])\n",
    "\n",
    "    # Training auxiliary: Get average representation of each document\n",
    "    # based on the number of words using a linear combination with the embedding matrix\n",
    "    DocTec = BoW.toarray()\n",
    "    diag = np.diag(list(map(mydiag, DocTec.sum(axis=1))))\n",
    "\n",
    "    # Training data\n",
    "    X_train_google = diag @ DocTec @ weight_google\n",
    "\n",
    "    # Test data\n",
    "    Bow_test = vectorizer_bow.transform(x_test)\n",
    "    DocTec_test = Bow_test.toarray()\n",
    "    diag = np.diag(list(map(mydiag, DocTec_test.sum(axis=1))))\n",
    "    X_test_google = diag @ DocTec_test @ weight_google\n",
    "\n",
    "    # Initialize classifier\n",
    "    clf_google = LinearSVC(tol=1e-5, C=1.0, class_weight='balanced', dual=True, fit_intercept=True,\n",
    "                           intercept_scaling=1, loss='squared_hinge', max_iter=1000,\n",
    "                           multi_class='ovr', penalty='l2', random_state=1013, verbose=2)\n",
    "\n",
    "    # Fit SVM-W2V-Google model\n",
    "    clf_google.fit(X_train_google, y_train)\n",
    "\n",
    "    # Predict on test data using Google embeddings\n",
    "    pred_test_google = clf_google.predict(X_test_google)\n",
    "\n",
    "    # Calculate metrics using Google embeddings\n",
    "    acc_g = metrics.accuracy_score(y_test, pred_test_google)\n",
    "    f1_score_g = metrics.f1_score(y_test, pred_test_google, average='weighted')\n",
    "    recall_score_g = metrics.recall_score(y_test, pred_test_google, average='macro')\n",
    "\n",
    "    metrics_g = [nChunks, acc_g, f1_score_g, recall_score_g]\n",
    "\n",
    "    return [round(metric, 3) for metric in metrics_g]\n",
    "\n",
    "\n",
    "w2v_svm_metrics = np.zeros(shape=(10, 4))\n",
    "\n",
    "for chunk in range(1, 11):\n",
    "    tic = time.time()\n",
    "    w2v_svm_metrics[chunk - 1, :] = W2Vg_SVM(train_df, test_df, chunk)\n",
    "    print('Chunks: {} \\t Processing Time (secs): {}'.format(chunk, time.time() - tic))"
   ]
  },
  {
   "cell_type": "code",
   "execution_count": null,
   "id": "f414eb8c",
   "metadata": {},
   "outputs": [],
   "source": [
    "W2v_SVM=pd.DataFrame(w2v_svm_metrics, columns=['Chunks','Acc','F1Score','Recall'])\n",
    "W2v_SVM"
   ]
  },
  {
   "cell_type": "code",
   "execution_count": null,
   "id": "b5e62ebb",
   "metadata": {},
   "outputs": [],
   "source": [
    "%matplotlib inline\n",
    "import matplotlib.pyplot as plt\n",
    "plt.style.use('seaborn-whitegrid')\n",
    "\n",
    "# multiple line plot\n",
    "plt.plot( 'Chunks', 'Acc', data=W2v_SVM, marker='v', color='cornflowerblue', linewidth=2)\n",
    "plt.plot( 'Chunks', 'F1Score', data=W2v_SVM, marker='v', color='darkred', linewidth=2)\n",
    "plt.plot( 'Chunks', 'Recall', data=W2v_SVM, marker='v', color='darkorange', linewidth=2)\n",
    "plt.xlabel(\"Chunks\")\n",
    "plt.ylabel(\"Rate\")\n",
    "plt.legend()"
   ]
  }
 ],
 "metadata": {
  "kernelspec": {
   "display_name": "depression",
   "language": "python",
   "name": "depression"
  },
  "language_info": {
   "codemirror_mode": {
    "name": "ipython",
    "version": 3
   },
   "file_extension": ".py",
   "mimetype": "text/x-python",
   "name": "python",
   "nbconvert_exporter": "python",
   "pygments_lexer": "ipython3",
   "version": "3.8.0"
  }
 },
 "nbformat": 4,
 "nbformat_minor": 5
}
