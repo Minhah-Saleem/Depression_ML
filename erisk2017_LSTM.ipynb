{
 "cells": [
  {
   "cell_type": "code",
   "execution_count": 1,
   "id": "630cc3e6",
   "metadata": {},
   "outputs": [],
   "source": [
    "#CNN with Glove embeddings\n",
    "#load data\n",
    "import os\n",
    "mypath=\"C:/Users/USER/eRisk2017/2017/\"\n",
    "os.chdir( mypath )"
   ]
  },
  {
   "cell_type": "code",
   "execution_count": 2,
   "id": "0749f521",
   "metadata": {},
   "outputs": [
    {
     "name": "stderr",
     "output_type": "stream",
     "text": [
      "C:\\Users\\USER\\AppData\\Local\\Programs\\Python\\Python38\\lib\\site-packages\\numpy\\_distributor_init.py:30: UserWarning: loaded more than 1 DLL from .libs:\n",
      "C:\\Users\\USER\\AppData\\Local\\Programs\\Python\\Python38\\lib\\site-packages\\numpy\\.libs\\libopenblas.FB5AE2TYXYH2IJRDKGDGQ3XBKLKTF43H.gfortran-win_amd64.dll\n",
      "C:\\Users\\USER\\AppData\\Local\\Programs\\Python\\Python38\\lib\\site-packages\\numpy\\.libs\\libopenblas.PYQHXLVVQ7VESDPUVUADXEVJOBGHJPAY.gfortran-win_amd64.dll\n",
      "  warnings.warn(\"loaded more than 1 DLL from .libs:\"\n"
     ]
    }
   ],
   "source": [
    "import numpy as np\n",
    "import pandas as pd\n",
    "train_df=pd.read_csv('train_Depression_all_chunks_nosteem.csv')\n",
    "train_df=train_df.replace(np.nan, '', regex=True)\n",
    "test_df=pd.read_csv('test_Depression_all_chunks_nosteem.csv')\n",
    "test_df=test_df.replace(np.nan, '', regex=True)"
   ]
  },
  {
   "cell_type": "code",
   "execution_count": 3,
   "id": "6a6e8034",
   "metadata": {},
   "outputs": [],
   "source": [
    "def generate_data(df, nchunks=1):\n",
    "    # Extract the first chunk of data\n",
    "    data = df['Chunk_1']\n",
    "    \n",
    "    # Rename the column to 'x' (although this line has no effect as it doesn't modify the original DataFrame)\n",
    "#     data.rename(columns={'Chunk_1': 'x'})\n",
    "    \n",
    "    # If nchunks is less than or equal to 1, do nothing\n",
    "    if nchunks <= 1:\n",
    "        pass\n",
    "    else:\n",
    "        # Iterate over the remaining chunks and concatenate them with the first chunk\n",
    "        for i in range(2, nchunks):\n",
    "            chunk = 'Chunk_' + str(i)\n",
    "            data += df[chunk]\n",
    "    \n",
    "    # Return the values of the concatenated data\n",
    "    return data.values"
   ]
  },
  {
   "cell_type": "code",
   "execution_count": 4,
   "id": "895ca189",
   "metadata": {},
   "outputs": [],
   "source": [
    "x_train=generate_data(train_df,10)\n",
    "y_train=train_df['Depress'].values\n",
    "x_test=generate_data(test_df,10)\n",
    "y_test=test_df['Depress'].values"
   ]
  },
  {
   "cell_type": "code",
   "execution_count": 5,
   "id": "1a6aaae0",
   "metadata": {},
   "outputs": [
    {
     "data": {
      "text/plain": [
       "49597"
      ]
     },
     "execution_count": 5,
     "metadata": {},
     "output_type": "execute_result"
    }
   ],
   "source": [
    "phrase_len=[len(p.split(' ')) for p in  (list(x_train.flatten()))]\n",
    "max_phrase=max(phrase_len)\n",
    "max_phrase"
   ]
  },
  {
   "cell_type": "code",
   "execution_count": 6,
   "id": "a1ad8163",
   "metadata": {},
   "outputs": [
    {
     "data": {
      "text/plain": [
       "(array([292.,  70.,  56.,  28.,  21.,  10.,   1.,   5.,   0.,   3.]),\n",
       " array([1.00000e+00, 4.96060e+03, 9.92020e+03, 1.48798e+04, 1.98394e+04,\n",
       "        2.47990e+04, 2.97586e+04, 3.47182e+04, 3.96778e+04, 4.46374e+04,\n",
       "        4.95970e+04]),\n",
       " <BarContainer object of 10 artists>)"
      ]
     },
     "execution_count": 6,
     "metadata": {},
     "output_type": "execute_result"
    },
    {
     "data": {
      "image/png": "[encoded data removed]",
      "text/plain": [
       "<Figure size 640x480 with 1 Axes>"
      ]
     },
     "metadata": {},
     "output_type": "display_data"
    }
   ],
   "source": [
    "import matplotlib.pyplot as plt\n",
    "plt.hist(phrase_len,density=False)"
   ]
  },
  {
   "cell_type": "code",
   "execution_count": 7,
   "id": "ddac5bc9",
   "metadata": {},
   "outputs": [
    {
     "data": {
      "text/plain": [
       "9"
      ]
     },
     "execution_count": 7,
     "metadata": {},
     "output_type": "execute_result"
    }
   ],
   "source": [
    "j=30000\n",
    "sum(i>j for i in phrase_len)"
   ]
  },
  {
   "cell_type": "code",
   "execution_count": 8,
   "id": "a778554e",
   "metadata": {},
   "outputs": [],
   "source": [
    "from keras.preprocessing.text import Tokenizer\n",
    "from tensorflow.keras.preprocessing.sequence import pad_sequences"
   ]
  },
  {
   "cell_type": "code",
   "execution_count": 9,
   "id": "3039f1cc",
   "metadata": {},
   "outputs": [],
   "source": [
    "max_words=10000\n",
    "max_len= 30000\n",
    "tokenizer=Tokenizer(num_words=max_words)\n",
    "tokenizer.fit_on_texts(x_train)\n",
    "X_train=tokenizer.texts_to_sequences(x_train)\n",
    "X_train= pad_sequences(X_train,maxlen=max_len)"
   ]
  },
  {
   "cell_type": "code",
   "execution_count": 10,
   "id": "aed183eb",
   "metadata": {},
   "outputs": [],
   "source": [
    "from keras.models import Sequential\n",
    "from keras.layers import Dense, Dropout, Embedding, LSTM, GlobalMaxPooling1D, SpatialDropout1D\n",
    "from keras import backend as K"
   ]
  },
  {
   "cell_type": "code",
   "execution_count": 11,
   "id": "49063940",
   "metadata": {},
   "outputs": [],
   "source": [
    "def recall_m(y_true, y_pred):\n",
    "        true_positives = K.sum(K.round(K.clip(y_true * y_pred, 0, 1)))\n",
    "        possible_positives = K.sum(K.round(K.clip(y_true, 0, 1)))\n",
    "        recall = true_positives / (possible_positives + K.epsilon())\n",
    "        return recall\n",
    "\n",
    "def precision_m(y_true, y_pred):\n",
    "        true_positives = K.sum(K.round(K.clip(y_true * y_pred, 0, 1)))\n",
    "        predicted_positives = K.sum(K.round(K.clip(y_pred, 0, 1)))\n",
    "        precision = true_positives / (predicted_positives + K.epsilon())\n",
    "        return precision\n",
    "\n",
    "def f1_m(y_true, y_pred):\n",
    "    precision = precision_m(y_true, y_pred)\n",
    "    recall = recall_m(y_true, y_pred)\n",
    "    return 2*((precision*recall)/(precision+recall+K.epsilon()))"
   ]
  },
  {
   "cell_type": "code",
   "execution_count": 12,
   "id": "f336bb01",
   "metadata": {},
   "outputs": [],
   "source": [
    "model_lstm=Sequential()\n",
    "model_lstm.add(Embedding(input_dim = max_words, output_dim = 50, input_length = max_len))\n",
    "model_lstm.add(SpatialDropout1D(0.3))\n",
    "model_lstm.add(LSTM(100, dropout = 0.3, recurrent_dropout = 0.3))\n",
    "model_lstm.add(Dense(1, activation = 'sigmoid'))"
   ]
  },
  {
   "cell_type": "code",
   "execution_count": 13,
   "id": "6020f763",
   "metadata": {},
   "outputs": [],
   "source": [
    "model_lstm.compile(\n",
    "    loss='binary_crossentropy',\n",
    "    optimizer='Adam',\n",
    "    metrics=['accuracy',f1_m,precision_m, recall_m]\n",
    ")"
   ]
  },
  {
   "cell_type": "code",
   "execution_count": 14,
   "id": "96225f42",
   "metadata": {},
   "outputs": [
    {
     "name": "stdout",
     "output_type": "stream",
     "text": [
      "Model: \"sequential\"\n",
      "_________________________________________________________________\n",
      " Layer (type)                Output Shape              Param #   \n",
      "=================================================================\n",
      " embedding (Embedding)       (None, 30000, 50)         500000    \n",
      "                                                                 \n",
      " spatial_dropout1d (SpatialD  (None, 30000, 50)        0         \n",
      " ropout1D)                                                       \n",
      "                                                                 \n",
      " lstm (LSTM)                 (None, 100)               60400     \n",
      "                                                                 \n",
      " dense (Dense)               (None, 1)                 101       \n",
      "                                                                 \n",
      "=================================================================\n",
      "Total params: 560,501\n",
      "Trainable params: 560,501\n",
      "Non-trainable params: 0\n",
      "_________________________________________________________________\n",
      "None\n"
     ]
    }
   ],
   "source": [
    "print(model_lstm.summary())"
   ]
  },
  {
   "cell_type": "code",
   "execution_count": 15,
   "id": "a6b52087",
   "metadata": {},
   "outputs": [
    {
     "name": "stdout",
     "output_type": "stream",
     "text": [
      "Epoch 1/30\n",
      "13/13 [==============================] - 12752s 973s/step - loss: 0.6275 - accuracy: 0.7500 - f1_m: 0.0228 - precision_m: 0.0162 - recall_m: 0.0385 - val_loss: 0.1224 - val_accuracy: 1.0000 - val_f1_m: 0.0000e+00 - val_precision_m: 0.0000e+00 - val_recall_m: 0.0000e+00\n",
      "Epoch 2/30\n",
      "13/13 [==============================] - 10041s 781s/step - loss: 0.5280 - accuracy: 0.7861 - f1_m: 0.0000e+00 - precision_m: 0.0000e+00 - recall_m: 0.0000e+00 - val_loss: 0.3354 - val_accuracy: 1.0000 - val_f1_m: 0.0000e+00 - val_precision_m: 0.0000e+00 - val_recall_m: 0.0000e+00\n",
      "Epoch 3/30\n",
      "13/13 [==============================] - 9951s 773s/step - loss: 0.5065 - accuracy: 0.7861 - f1_m: 0.0000e+00 - precision_m: 0.0000e+00 - recall_m: 0.0000e+00 - val_loss: 0.2044 - val_accuracy: 1.0000 - val_f1_m: 0.0000e+00 - val_precision_m: 0.0000e+00 - val_recall_m: 0.0000e+00\n",
      "Epoch 4/30\n",
      "13/13 [==============================] - 10139s 788s/step - loss: 0.4782 - accuracy: 0.7861 - f1_m: 0.0000e+00 - precision_m: 0.0000e+00 - recall_m: 0.0000e+00 - val_loss: 0.2897 - val_accuracy: 1.0000 - val_f1_m: 0.0000e+00 - val_precision_m: 0.0000e+00 - val_recall_m: 0.0000e+00\n",
      "Epoch 5/30\n",
      "13/13 [==============================] - 10191s 793s/step - loss: 0.4127 - accuracy: 0.7861 - f1_m: 0.0000e+00 - precision_m: 0.0000e+00 - recall_m: 0.0000e+00 - val_loss: 0.1808 - val_accuracy: 1.0000 - val_f1_m: 0.0000e+00 - val_precision_m: 0.0000e+00 - val_recall_m: 0.0000e+00\n",
      "Epoch 6/30\n",
      "13/13 [==============================] - 10295s 798s/step - loss: 0.2391 - accuracy: 0.8840 - f1_m: 0.5585 - precision_m: 0.9231 - recall_m: 0.4661 - val_loss: 0.3605 - val_accuracy: 0.9184 - val_f1_m: 0.0000e+00 - val_precision_m: 0.0000e+00 - val_recall_m: 0.0000e+00\n",
      "Epoch 7/30\n",
      "13/13 [==============================] - 10356s 805s/step - loss: 0.1448 - accuracy: 0.9871 - f1_m: 0.9718 - precision_m: 1.0000 - recall_m: 0.9507 - val_loss: 0.0818 - val_accuracy: 0.9694 - val_f1_m: 0.0000e+00 - val_precision_m: 0.0000e+00 - val_recall_m: 0.0000e+00\n",
      "Epoch 8/30\n",
      "13/13 [==============================] - 10385s 806s/step - loss: 0.0385 - accuracy: 0.9974 - f1_m: 0.9949 - precision_m: 0.9904 - recall_m: 1.0000 - val_loss: 0.0680 - val_accuracy: 0.9694 - val_f1_m: 0.0000e+00 - val_precision_m: 0.0000e+00 - val_recall_m: 0.0000e+00\n",
      "Epoch 9/30\n",
      "13/13 [==============================] - 10617s 827s/step - loss: 0.0146 - accuracy: 0.9974 - f1_m: 0.9960 - precision_m: 1.0000 - recall_m: 0.9923 - val_loss: 0.1087 - val_accuracy: 0.9490 - val_f1_m: 0.0000e+00 - val_precision_m: 0.0000e+00 - val_recall_m: 0.0000e+00\n",
      "Epoch 10/30\n",
      "13/13 [==============================] - 10885s 844s/step - loss: 0.0067 - accuracy: 1.0000 - f1_m: 1.0000 - precision_m: 1.0000 - recall_m: 1.0000 - val_loss: 0.1007 - val_accuracy: 0.9490 - val_f1_m: 0.0000e+00 - val_precision_m: 0.0000e+00 - val_recall_m: 0.0000e+00\n",
      "Epoch 11/30\n",
      "13/13 [==============================] - 10781s 838s/step - loss: 0.0044 - accuracy: 1.0000 - f1_m: 1.0000 - precision_m: 1.0000 - recall_m: 1.0000 - val_loss: 0.0659 - val_accuracy: 0.9694 - val_f1_m: 0.0000e+00 - val_precision_m: 0.0000e+00 - val_recall_m: 0.0000e+00\n",
      "Epoch 12/30\n",
      "13/13 [==============================] - 10756s 833s/step - loss: 0.0043 - accuracy: 1.0000 - f1_m: 1.0000 - precision_m: 1.0000 - recall_m: 1.0000 - val_loss: 0.0525 - val_accuracy: 0.9694 - val_f1_m: 0.0000e+00 - val_precision_m: 0.0000e+00 - val_recall_m: 0.0000e+00\n",
      "Epoch 13/30\n",
      "13/13 [==============================] - 11061s 860s/step - loss: 0.0034 - accuracy: 1.0000 - f1_m: 0.9231 - precision_m: 0.9231 - recall_m: 0.9231 - val_loss: 0.0297 - val_accuracy: 0.9796 - val_f1_m: 0.0000e+00 - val_precision_m: 0.0000e+00 - val_recall_m: 0.0000e+00\n",
      "Epoch 14/30\n",
      "13/13 [==============================] - 11201s 871s/step - loss: 0.0024 - accuracy: 1.0000 - f1_m: 1.0000 - precision_m: 1.0000 - recall_m: 1.0000 - val_loss: 0.0938 - val_accuracy: 0.9490 - val_f1_m: 0.0000e+00 - val_precision_m: 0.0000e+00 - val_recall_m: 0.0000e+00\n",
      "Epoch 15/30\n",
      "13/13 [==============================] - 11142s 865s/step - loss: 0.0018 - accuracy: 1.0000 - f1_m: 0.9231 - precision_m: 0.9231 - recall_m: 0.9231 - val_loss: 0.2174 - val_accuracy: 0.9388 - val_f1_m: 0.0000e+00 - val_precision_m: 0.0000e+00 - val_recall_m: 0.0000e+00\n",
      "Epoch 16/30\n",
      "13/13 [==============================] - 11235s 870s/step - loss: 0.0115 - accuracy: 0.9974 - f1_m: 0.9190 - precision_m: 0.9154 - recall_m: 0.9231 - val_loss: 0.0868 - val_accuracy: 0.9694 - val_f1_m: 0.0000e+00 - val_precision_m: 0.0000e+00 - val_recall_m: 0.0000e+00\n",
      "Epoch 17/30\n",
      "13/13 [==============================] - 11395s 886s/step - loss: 0.0052 - accuracy: 1.0000 - f1_m: 1.0000 - precision_m: 1.0000 - recall_m: 1.0000 - val_loss: 0.0489 - val_accuracy: 0.9796 - val_f1_m: 0.0000e+00 - val_precision_m: 0.0000e+00 - val_recall_m: 0.0000e+00\n",
      "Epoch 18/30\n",
      "13/13 [==============================] - 11518s 888s/step - loss: 0.0036 - accuracy: 1.0000 - f1_m: 1.0000 - precision_m: 1.0000 - recall_m: 1.0000 - val_loss: 0.0020 - val_accuracy: 1.0000 - val_f1_m: 0.0000e+00 - val_precision_m: 0.0000e+00 - val_recall_m: 0.0000e+00\n",
      "Epoch 19/30\n",
      "13/13 [==============================] - 11531s 895s/step - loss: 0.0024 - accuracy: 1.0000 - f1_m: 1.0000 - precision_m: 1.0000 - recall_m: 1.0000 - val_loss: 0.0065 - val_accuracy: 1.0000 - val_f1_m: 0.0000e+00 - val_precision_m: 0.0000e+00 - val_recall_m: 0.0000e+00\n",
      "Epoch 20/30\n",
      "13/13 [==============================] - 11654s 905s/step - loss: 0.0015 - accuracy: 1.0000 - f1_m: 1.0000 - precision_m: 1.0000 - recall_m: 1.0000 - val_loss: 0.0251 - val_accuracy: 0.9796 - val_f1_m: 0.0000e+00 - val_precision_m: 0.0000e+00 - val_recall_m: 0.0000e+00\n",
      "Epoch 21/30\n",
      "13/13 [==============================] - 11814s 916s/step - loss: 0.0012 - accuracy: 1.0000 - f1_m: 0.9231 - precision_m: 0.9231 - recall_m: 0.9231 - val_loss: 0.0254 - val_accuracy: 0.9898 - val_f1_m: 0.0000e+00 - val_precision_m: 0.0000e+00 - val_recall_m: 0.0000e+00\n",
      "Epoch 22/30\n",
      "13/13 [==============================] - 11910s 922s/step - loss: 9.9771e-04 - accuracy: 1.0000 - f1_m: 1.0000 - precision_m: 1.0000 - recall_m: 1.0000 - val_loss: 0.0215 - val_accuracy: 0.9898 - val_f1_m: 0.0000e+00 - val_precision_m: 0.0000e+00 - val_recall_m: 0.0000e+00\n",
      "Epoch 23/30\n",
      "13/13 [==============================] - 11897s 922s/step - loss: 9.0553e-04 - accuracy: 1.0000 - f1_m: 0.9231 - precision_m: 0.9231 - recall_m: 0.9231 - val_loss: 0.0789 - val_accuracy: 0.9694 - val_f1_m: 0.0000e+00 - val_precision_m: 0.0000e+00 - val_recall_m: 0.0000e+00\n",
      "Epoch 24/30\n",
      "13/13 [==============================] - 11964s 926s/step - loss: 0.0029 - accuracy: 1.0000 - f1_m: 1.0000 - precision_m: 1.0000 - recall_m: 1.0000 - val_loss: 0.2233 - val_accuracy: 0.9082 - val_f1_m: 0.0000e+00 - val_precision_m: 0.0000e+00 - val_recall_m: 0.0000e+00\n",
      "Epoch 25/30\n",
      "13/13 [==============================] - 11962s 928s/step - loss: 0.0106 - accuracy: 1.0000 - f1_m: 1.0000 - precision_m: 1.0000 - recall_m: 1.0000 - val_loss: 0.0505 - val_accuracy: 0.9796 - val_f1_m: 0.0000e+00 - val_precision_m: 0.0000e+00 - val_recall_m: 0.0000e+00\n",
      "Epoch 26/30\n",
      "13/13 [==============================] - 11949s 928s/step - loss: 0.0191 - accuracy: 0.9974 - f1_m: 0.9890 - precision_m: 1.0000 - recall_m: 0.9808 - val_loss: 0.5065 - val_accuracy: 0.7245 - val_f1_m: 0.0000e+00 - val_precision_m: 0.0000e+00 - val_recall_m: 0.0000e+00\n",
      "Epoch 27/30\n",
      "13/13 [==============================] - 12515s 962s/step - loss: 0.0455 - accuracy: 0.9948 - f1_m: 0.9897 - precision_m: 0.9808 - recall_m: 1.0000 - val_loss: 0.1092 - val_accuracy: 0.9490 - val_f1_m: 0.0000e+00 - val_precision_m: 0.0000e+00 - val_recall_m: 0.0000e+00\n",
      "Epoch 28/30\n",
      "13/13 [==============================] - 12510s 971s/step - loss: 0.0078 - accuracy: 1.0000 - f1_m: 0.9231 - precision_m: 0.9231 - recall_m: 0.9231 - val_loss: 0.0237 - val_accuracy: 1.0000 - val_f1_m: 0.0000e+00 - val_precision_m: 0.0000e+00 - val_recall_m: 0.0000e+00\n",
      "Epoch 29/30\n",
      "13/13 [==============================] - 12279s 954s/step - loss: 0.0037 - accuracy: 1.0000 - f1_m: 0.9231 - precision_m: 0.9231 - recall_m: 0.9231 - val_loss: 0.1123 - val_accuracy: 0.9490 - val_f1_m: 0.0000e+00 - val_precision_m: 0.0000e+00 - val_recall_m: 0.0000e+00\n",
      "Epoch 30/30\n",
      "13/13 [==============================] - 12751s 982s/step - loss: 0.0030 - accuracy: 1.0000 - f1_m: 0.9231 - precision_m: 0.9231 - recall_m: 0.9231 - val_loss: 0.1012 - val_accuracy: 0.9490 - val_f1_m: 0.0000e+00 - val_precision_m: 0.0000e+00 - val_recall_m: 0.0000e+00\n"
     ]
    }
   ],
   "source": [
    "epochs=30\n",
    "batch_size=32\n",
    "history=model_lstm.fit(X_train,y_train,epochs=epochs,batch_size=batch_size,validation_split=0.2)"
   ]
  },
  {
   "cell_type": "code",
   "execution_count": null,
   "id": "dc27aec4",
   "metadata": {},
   "outputs": [],
   "source": []
  }
 ],
 "metadata": {
  "kernelspec": {
   "display_name": "depression",
   "language": "python",
   "name": "depression"
  },
  "language_info": {
   "codemirror_mode": {
    "name": "ipython",
    "version": 3
   },
   "file_extension": ".py",
   "mimetype": "text/x-python",
   "name": "python",
   "nbconvert_exporter": "python",
   "pygments_lexer": "ipython3",
   "version": "3.8.0"
  }
 },
 "nbformat": 4,
 "nbformat_minor": 5
}
